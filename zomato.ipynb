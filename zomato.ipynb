{
 "cells": [
  {
   "metadata": {
    "ExecuteTime": {
     "end_time": "2024-12-12T20:37:19.384891Z",
     "start_time": "2024-12-12T20:37:19.362883Z"
    }
   },
   "cell_type": "code",
   "source": [
    "import pandas as pd\n",
    "import numpy as np"
   ],
   "id": "ebbec3d879442a10",
   "outputs": [],
   "execution_count": 83
  },
  {
   "metadata": {
    "ExecuteTime": {
     "end_time": "2024-12-12T20:37:20.710573Z",
     "start_time": "2024-12-12T20:37:20.552967Z"
    }
   },
   "cell_type": "code",
   "source": "dataset = pd.read_csv(\"D:/Projects/Zomato Delivery Dataset/Zomato Dataset.csv\", sep=\",\")",
   "id": "5364046bd9cdeecb",
   "outputs": [],
   "execution_count": 84
  },
  {
   "metadata": {
    "ExecuteTime": {
     "end_time": "2024-12-12T20:37:20.730590Z",
     "start_time": "2024-12-12T20:37:20.710573Z"
    }
   },
   "cell_type": "code",
   "source": "dataset",
   "id": "752e4de11f8dc764",
   "outputs": [
    {
     "data": {
      "text/plain": [
       "           ID Delivery_person_ID  Delivery_person_Age  \\\n",
       "0      0xcdcd      DEHRES17DEL01                 36.0   \n",
       "1      0xd987      KOCRES16DEL01                 21.0   \n",
       "2      0x2784     PUNERES13DEL03                 23.0   \n",
       "3      0xc8b6     LUDHRES15DEL02                 34.0   \n",
       "4      0xdb64      KNPRES14DEL02                 24.0   \n",
       "...       ...                ...                  ...   \n",
       "45579  0x7c09      JAPRES04DEL01                 30.0   \n",
       "45580  0xd641      AGRRES16DEL01                 21.0   \n",
       "45581  0x4f8d     CHENRES08DEL03                 30.0   \n",
       "45582  0x5eee    COIMBRES11DEL01                 20.0   \n",
       "45583  0x5fb2   RANCHIRES09DEL02                 23.0   \n",
       "\n",
       "       Delivery_person_Ratings  Restaurant_latitude  Restaurant_longitude  \\\n",
       "0                          4.2            30.327968             78.046106   \n",
       "1                          4.7            10.003064             76.307589   \n",
       "2                          4.7            18.562450             73.916619   \n",
       "3                          4.3            30.899584             75.809346   \n",
       "4                          4.7            26.463504             80.372929   \n",
       "...                        ...                  ...                   ...   \n",
       "45579                      4.8            26.902328             75.794257   \n",
       "45580                      4.6             0.000000              0.000000   \n",
       "45581                      4.9            13.022394             80.242439   \n",
       "45582                      4.7            11.001753             76.986241   \n",
       "45583                      4.9            23.351058             85.325731   \n",
       "\n",
       "       Delivery_location_latitude  Delivery_location_longitude  Order_Date  \\\n",
       "0                       30.397968                    78.116106  12-02-2022   \n",
       "1                       10.043064                    76.347589  13-02-2022   \n",
       "2                       18.652450                    74.006619  04-03-2022   \n",
       "3                       30.919584                    75.829346  13-02-2022   \n",
       "4                       26.593504                    80.502929  14-02-2022   \n",
       "...                           ...                          ...         ...   \n",
       "45579                   26.912328                    75.804257  24-03-2022   \n",
       "45580                    0.070000                     0.070000  16-02-2022   \n",
       "45581                   13.052394                    80.272439  11-03-2022   \n",
       "45582                   11.041753                    77.026241  07-03-2022   \n",
       "45583                   23.431058                    85.405731  02-03-2022   \n",
       "\n",
       "      Time_Orderd Time_Order_picked Weather_conditions Road_traffic_density  \\\n",
       "0           21:55             22:10                Fog                  Jam   \n",
       "1           14:55             15:05             Stormy                 High   \n",
       "2           17:30             17:40         Sandstorms               Medium   \n",
       "3           09:20             09:30         Sandstorms                  Low   \n",
       "4           19:50             20:05                Fog                  Jam   \n",
       "...           ...               ...                ...                  ...   \n",
       "45579       11:35             11:45              Windy                 High   \n",
       "45580       19:55             20:10              Windy                  Jam   \n",
       "45581       23:50          24:05:00             Cloudy                  Low   \n",
       "45582       13:35             13:40             Cloudy                 High   \n",
       "45583       17:10             17:15                Fog               Medium   \n",
       "\n",
       "       Vehicle_condition Type_of_order Type_of_vehicle  multiple_deliveries  \\\n",
       "0                      2         Snack      motorcycle                  3.0   \n",
       "1                      1          Meal      motorcycle                  1.0   \n",
       "2                      1        Drinks         scooter                  1.0   \n",
       "3                      0        Buffet      motorcycle                  0.0   \n",
       "4                      1         Snack         scooter                  1.0   \n",
       "...                  ...           ...             ...                  ...   \n",
       "45579                  1          Meal      motorcycle                  0.0   \n",
       "45580                  0        Buffet      motorcycle                  1.0   \n",
       "45581                  1        Drinks         scooter                  0.0   \n",
       "45582                  0         Snack      motorcycle                  1.0   \n",
       "45583                  2         Snack         scooter                  1.0   \n",
       "\n",
       "      Festival           City  Time_taken (min)  \n",
       "0           No  Metropolitian                46  \n",
       "1           No  Metropolitian                23  \n",
       "2           No  Metropolitian                21  \n",
       "3           No  Metropolitian                20  \n",
       "4           No  Metropolitian                41  \n",
       "...        ...            ...               ...  \n",
       "45579       No  Metropolitian                32  \n",
       "45580       No  Metropolitian                36  \n",
       "45581       No  Metropolitian                16  \n",
       "45582       No  Metropolitian                26  \n",
       "45583       No  Metropolitian                36  \n",
       "\n",
       "[45584 rows x 20 columns]"
      ],
      "text/html": [
       "<div>\n",
       "<style scoped>\n",
       "    .dataframe tbody tr th:only-of-type {\n",
       "        vertical-align: middle;\n",
       "    }\n",
       "\n",
       "    .dataframe tbody tr th {\n",
       "        vertical-align: top;\n",
       "    }\n",
       "\n",
       "    .dataframe thead th {\n",
       "        text-align: right;\n",
       "    }\n",
       "</style>\n",
       "<table border=\"1\" class=\"dataframe\">\n",
       "  <thead>\n",
       "    <tr style=\"text-align: right;\">\n",
       "      <th></th>\n",
       "      <th>ID</th>\n",
       "      <th>Delivery_person_ID</th>\n",
       "      <th>Delivery_person_Age</th>\n",
       "      <th>Delivery_person_Ratings</th>\n",
       "      <th>Restaurant_latitude</th>\n",
       "      <th>Restaurant_longitude</th>\n",
       "      <th>Delivery_location_latitude</th>\n",
       "      <th>Delivery_location_longitude</th>\n",
       "      <th>Order_Date</th>\n",
       "      <th>Time_Orderd</th>\n",
       "      <th>Time_Order_picked</th>\n",
       "      <th>Weather_conditions</th>\n",
       "      <th>Road_traffic_density</th>\n",
       "      <th>Vehicle_condition</th>\n",
       "      <th>Type_of_order</th>\n",
       "      <th>Type_of_vehicle</th>\n",
       "      <th>multiple_deliveries</th>\n",
       "      <th>Festival</th>\n",
       "      <th>City</th>\n",
       "      <th>Time_taken (min)</th>\n",
       "    </tr>\n",
       "  </thead>\n",
       "  <tbody>\n",
       "    <tr>\n",
       "      <th>0</th>\n",
       "      <td>0xcdcd</td>\n",
       "      <td>DEHRES17DEL01</td>\n",
       "      <td>36.0</td>\n",
       "      <td>4.2</td>\n",
       "      <td>30.327968</td>\n",
       "      <td>78.046106</td>\n",
       "      <td>30.397968</td>\n",
       "      <td>78.116106</td>\n",
       "      <td>12-02-2022</td>\n",
       "      <td>21:55</td>\n",
       "      <td>22:10</td>\n",
       "      <td>Fog</td>\n",
       "      <td>Jam</td>\n",
       "      <td>2</td>\n",
       "      <td>Snack</td>\n",
       "      <td>motorcycle</td>\n",
       "      <td>3.0</td>\n",
       "      <td>No</td>\n",
       "      <td>Metropolitian</td>\n",
       "      <td>46</td>\n",
       "    </tr>\n",
       "    <tr>\n",
       "      <th>1</th>\n",
       "      <td>0xd987</td>\n",
       "      <td>KOCRES16DEL01</td>\n",
       "      <td>21.0</td>\n",
       "      <td>4.7</td>\n",
       "      <td>10.003064</td>\n",
       "      <td>76.307589</td>\n",
       "      <td>10.043064</td>\n",
       "      <td>76.347589</td>\n",
       "      <td>13-02-2022</td>\n",
       "      <td>14:55</td>\n",
       "      <td>15:05</td>\n",
       "      <td>Stormy</td>\n",
       "      <td>High</td>\n",
       "      <td>1</td>\n",
       "      <td>Meal</td>\n",
       "      <td>motorcycle</td>\n",
       "      <td>1.0</td>\n",
       "      <td>No</td>\n",
       "      <td>Metropolitian</td>\n",
       "      <td>23</td>\n",
       "    </tr>\n",
       "    <tr>\n",
       "      <th>2</th>\n",
       "      <td>0x2784</td>\n",
       "      <td>PUNERES13DEL03</td>\n",
       "      <td>23.0</td>\n",
       "      <td>4.7</td>\n",
       "      <td>18.562450</td>\n",
       "      <td>73.916619</td>\n",
       "      <td>18.652450</td>\n",
       "      <td>74.006619</td>\n",
       "      <td>04-03-2022</td>\n",
       "      <td>17:30</td>\n",
       "      <td>17:40</td>\n",
       "      <td>Sandstorms</td>\n",
       "      <td>Medium</td>\n",
       "      <td>1</td>\n",
       "      <td>Drinks</td>\n",
       "      <td>scooter</td>\n",
       "      <td>1.0</td>\n",
       "      <td>No</td>\n",
       "      <td>Metropolitian</td>\n",
       "      <td>21</td>\n",
       "    </tr>\n",
       "    <tr>\n",
       "      <th>3</th>\n",
       "      <td>0xc8b6</td>\n",
       "      <td>LUDHRES15DEL02</td>\n",
       "      <td>34.0</td>\n",
       "      <td>4.3</td>\n",
       "      <td>30.899584</td>\n",
       "      <td>75.809346</td>\n",
       "      <td>30.919584</td>\n",
       "      <td>75.829346</td>\n",
       "      <td>13-02-2022</td>\n",
       "      <td>09:20</td>\n",
       "      <td>09:30</td>\n",
       "      <td>Sandstorms</td>\n",
       "      <td>Low</td>\n",
       "      <td>0</td>\n",
       "      <td>Buffet</td>\n",
       "      <td>motorcycle</td>\n",
       "      <td>0.0</td>\n",
       "      <td>No</td>\n",
       "      <td>Metropolitian</td>\n",
       "      <td>20</td>\n",
       "    </tr>\n",
       "    <tr>\n",
       "      <th>4</th>\n",
       "      <td>0xdb64</td>\n",
       "      <td>KNPRES14DEL02</td>\n",
       "      <td>24.0</td>\n",
       "      <td>4.7</td>\n",
       "      <td>26.463504</td>\n",
       "      <td>80.372929</td>\n",
       "      <td>26.593504</td>\n",
       "      <td>80.502929</td>\n",
       "      <td>14-02-2022</td>\n",
       "      <td>19:50</td>\n",
       "      <td>20:05</td>\n",
       "      <td>Fog</td>\n",
       "      <td>Jam</td>\n",
       "      <td>1</td>\n",
       "      <td>Snack</td>\n",
       "      <td>scooter</td>\n",
       "      <td>1.0</td>\n",
       "      <td>No</td>\n",
       "      <td>Metropolitian</td>\n",
       "      <td>41</td>\n",
       "    </tr>\n",
       "    <tr>\n",
       "      <th>...</th>\n",
       "      <td>...</td>\n",
       "      <td>...</td>\n",
       "      <td>...</td>\n",
       "      <td>...</td>\n",
       "      <td>...</td>\n",
       "      <td>...</td>\n",
       "      <td>...</td>\n",
       "      <td>...</td>\n",
       "      <td>...</td>\n",
       "      <td>...</td>\n",
       "      <td>...</td>\n",
       "      <td>...</td>\n",
       "      <td>...</td>\n",
       "      <td>...</td>\n",
       "      <td>...</td>\n",
       "      <td>...</td>\n",
       "      <td>...</td>\n",
       "      <td>...</td>\n",
       "      <td>...</td>\n",
       "      <td>...</td>\n",
       "    </tr>\n",
       "    <tr>\n",
       "      <th>45579</th>\n",
       "      <td>0x7c09</td>\n",
       "      <td>JAPRES04DEL01</td>\n",
       "      <td>30.0</td>\n",
       "      <td>4.8</td>\n",
       "      <td>26.902328</td>\n",
       "      <td>75.794257</td>\n",
       "      <td>26.912328</td>\n",
       "      <td>75.804257</td>\n",
       "      <td>24-03-2022</td>\n",
       "      <td>11:35</td>\n",
       "      <td>11:45</td>\n",
       "      <td>Windy</td>\n",
       "      <td>High</td>\n",
       "      <td>1</td>\n",
       "      <td>Meal</td>\n",
       "      <td>motorcycle</td>\n",
       "      <td>0.0</td>\n",
       "      <td>No</td>\n",
       "      <td>Metropolitian</td>\n",
       "      <td>32</td>\n",
       "    </tr>\n",
       "    <tr>\n",
       "      <th>45580</th>\n",
       "      <td>0xd641</td>\n",
       "      <td>AGRRES16DEL01</td>\n",
       "      <td>21.0</td>\n",
       "      <td>4.6</td>\n",
       "      <td>0.000000</td>\n",
       "      <td>0.000000</td>\n",
       "      <td>0.070000</td>\n",
       "      <td>0.070000</td>\n",
       "      <td>16-02-2022</td>\n",
       "      <td>19:55</td>\n",
       "      <td>20:10</td>\n",
       "      <td>Windy</td>\n",
       "      <td>Jam</td>\n",
       "      <td>0</td>\n",
       "      <td>Buffet</td>\n",
       "      <td>motorcycle</td>\n",
       "      <td>1.0</td>\n",
       "      <td>No</td>\n",
       "      <td>Metropolitian</td>\n",
       "      <td>36</td>\n",
       "    </tr>\n",
       "    <tr>\n",
       "      <th>45581</th>\n",
       "      <td>0x4f8d</td>\n",
       "      <td>CHENRES08DEL03</td>\n",
       "      <td>30.0</td>\n",
       "      <td>4.9</td>\n",
       "      <td>13.022394</td>\n",
       "      <td>80.242439</td>\n",
       "      <td>13.052394</td>\n",
       "      <td>80.272439</td>\n",
       "      <td>11-03-2022</td>\n",
       "      <td>23:50</td>\n",
       "      <td>24:05:00</td>\n",
       "      <td>Cloudy</td>\n",
       "      <td>Low</td>\n",
       "      <td>1</td>\n",
       "      <td>Drinks</td>\n",
       "      <td>scooter</td>\n",
       "      <td>0.0</td>\n",
       "      <td>No</td>\n",
       "      <td>Metropolitian</td>\n",
       "      <td>16</td>\n",
       "    </tr>\n",
       "    <tr>\n",
       "      <th>45582</th>\n",
       "      <td>0x5eee</td>\n",
       "      <td>COIMBRES11DEL01</td>\n",
       "      <td>20.0</td>\n",
       "      <td>4.7</td>\n",
       "      <td>11.001753</td>\n",
       "      <td>76.986241</td>\n",
       "      <td>11.041753</td>\n",
       "      <td>77.026241</td>\n",
       "      <td>07-03-2022</td>\n",
       "      <td>13:35</td>\n",
       "      <td>13:40</td>\n",
       "      <td>Cloudy</td>\n",
       "      <td>High</td>\n",
       "      <td>0</td>\n",
       "      <td>Snack</td>\n",
       "      <td>motorcycle</td>\n",
       "      <td>1.0</td>\n",
       "      <td>No</td>\n",
       "      <td>Metropolitian</td>\n",
       "      <td>26</td>\n",
       "    </tr>\n",
       "    <tr>\n",
       "      <th>45583</th>\n",
       "      <td>0x5fb2</td>\n",
       "      <td>RANCHIRES09DEL02</td>\n",
       "      <td>23.0</td>\n",
       "      <td>4.9</td>\n",
       "      <td>23.351058</td>\n",
       "      <td>85.325731</td>\n",
       "      <td>23.431058</td>\n",
       "      <td>85.405731</td>\n",
       "      <td>02-03-2022</td>\n",
       "      <td>17:10</td>\n",
       "      <td>17:15</td>\n",
       "      <td>Fog</td>\n",
       "      <td>Medium</td>\n",
       "      <td>2</td>\n",
       "      <td>Snack</td>\n",
       "      <td>scooter</td>\n",
       "      <td>1.0</td>\n",
       "      <td>No</td>\n",
       "      <td>Metropolitian</td>\n",
       "      <td>36</td>\n",
       "    </tr>\n",
       "  </tbody>\n",
       "</table>\n",
       "<p>45584 rows × 20 columns</p>\n",
       "</div>"
      ]
     },
     "execution_count": 85,
     "metadata": {},
     "output_type": "execute_result"
    }
   ],
   "execution_count": 85
  },
  {
   "metadata": {
    "ExecuteTime": {
     "end_time": "2024-12-12T20:37:20.737685Z",
     "start_time": "2024-12-12T20:37:20.730590Z"
    }
   },
   "cell_type": "code",
   "source": [
    "\"\"\"\n",
    "This dataset can be broken down into 3 segments\n",
    "1. Delivery Person Info - Delivery_person_id, Delivery_person_age, Delivery_person_ratings\n",
    "2. Conditions affecting the deliveries - Weather, Road Traffic, Vehicle Condition, Type of vehicle, multiple deliveries, Festival, City\n",
    "3. Order and Delivery Info - Order date, order time, order pickup time, type of order, time taken\n",
    "\"\"\""
   ],
   "id": "84c6cd4b942379ab",
   "outputs": [
    {
     "data": {
      "text/plain": [
       "'\\nThis dataset can be broken down into 3 segments\\n1. Delivery Person Info - Delivery_person_id, Delivery_person_age, Delivery_person_ratings\\n2. Conditions affecting the deliveries - Weather, Road Traffic, Vehicle Condition, Type of vehicle, multiple deliveries, Festival, City\\n3. Order and Delivery Info - Order date, order time, order pickup time, type of order, time taken\\n'"
      ]
     },
     "execution_count": 86,
     "metadata": {},
     "output_type": "execute_result"
    }
   ],
   "execution_count": 86
  },
  {
   "metadata": {},
   "cell_type": "markdown",
   "source": "# Cleaning Data",
   "id": "90edfb246865f608"
  },
  {
   "metadata": {
    "ExecuteTime": {
     "end_time": "2024-12-12T20:37:20.761832Z",
     "start_time": "2024-12-12T20:37:20.740692Z"
    }
   },
   "cell_type": "code",
   "source": [
    "# Removing Restaurant and Delivery Location Lat, Long because we cant perform analysis on them\n",
    "clean_data = dataset.drop(['Delivery_location_longitude', 'Delivery_location_latitude', 'Restaurant_latitude', 'Restaurant_longitude'], axis=1)"
   ],
   "id": "766e48420f9e0484",
   "outputs": [],
   "execution_count": 87
  },
  {
   "metadata": {
    "ExecuteTime": {
     "end_time": "2024-12-12T20:37:20.845538Z",
     "start_time": "2024-12-12T20:37:20.804342Z"
    }
   },
   "cell_type": "code",
   "source": [
    "# Merging Order_date with Time_Ordered and Order_date with Time_order_picked\n",
    "clean_data = clean_data.assign(\n",
    "    placed_at = clean_data['Order_Date'] + ' ' + clean_data['Time_Orderd'],\n",
    "    picked_at = clean_data['Order_Date'] + ' ' + clean_data['Time_Order_picked']\n",
    ")"
   ],
   "id": "42aec4502520acfb",
   "outputs": [],
   "execution_count": 88
  },
  {
   "metadata": {
    "ExecuteTime": {
     "end_time": "2024-12-12T20:37:21.223272Z",
     "start_time": "2024-12-12T20:37:20.956358Z"
    }
   },
   "cell_type": "code",
   "source": [
    "# Changing the dtype for placed_at and picked_at to datetime64 for analysis\n",
    "clean_data = clean_data.assign(\n",
    "    placed_at = pd.to_datetime(clean_data['placed_at'], errors='coerce', format='%d-%m-%Y %H:%M'),\n",
    "    picked_at = pd.to_datetime(clean_data['picked_at'], errors='coerce', format='%d-%m-%Y %H:%M'\n",
    "))"
   ],
   "id": "63b4019ad2b60835",
   "outputs": [],
   "execution_count": 89
  },
  {
   "metadata": {
    "ExecuteTime": {
     "end_time": "2024-12-12T20:37:21.235841Z",
     "start_time": "2024-12-12T20:37:21.223272Z"
    }
   },
   "cell_type": "code",
   "source": [
    "# removing the outdated columns\n",
    "clean_data.drop(['Order_Date', 'Time_Order_picked', 'Time_Orderd'], axis=1, inplace=True)"
   ],
   "id": "739626fc4c7ebe61",
   "outputs": [],
   "execution_count": 90
  },
  {
   "metadata": {
    "ExecuteTime": {
     "end_time": "2024-12-12T20:37:22.935680Z",
     "start_time": "2024-12-12T20:37:22.923362Z"
    }
   },
   "cell_type": "code",
   "source": [
    "# Reordering the columns\n",
    "clean_data = clean_data[['ID', 'Delivery_person_ID', 'Delivery_person_Age', 'Delivery_person_Ratings',\n",
    "                         'placed_at', 'picked_at', 'Time_taken (min)', 'Type_of_order',\n",
    "                         'Weather_conditions', 'Road_traffic_density', 'Festival', 'City' ,'Vehicle_condition', 'Type_of_vehicle', 'multiple_deliveries']]"
   ],
   "id": "44e268f578c3f3b9",
   "outputs": [],
   "execution_count": 91
  },
  {
   "metadata": {
    "ExecuteTime": {
     "end_time": "2024-12-12T20:37:23.001370Z",
     "start_time": "2024-12-12T20:37:22.972197Z"
    }
   },
   "cell_type": "code",
   "source": [
    "# handling missing values\n",
    "clean_data.isna().mean() * 100"
   ],
   "id": "e623ba7d13a871f6",
   "outputs": [
    {
     "data": {
      "text/plain": [
       "ID                          0.000000\n",
       "Delivery_person_ID          0.000000\n",
       "Delivery_person_Age         4.067217\n",
       "Delivery_person_Ratings     4.185679\n",
       "placed_at                  12.721569\n",
       "picked_at                  10.984117\n",
       "Time_taken (min)            0.000000\n",
       "Type_of_order               0.000000\n",
       "Weather_conditions          1.351351\n",
       "Road_traffic_density        1.318445\n",
       "Festival                    0.500176\n",
       "City                        2.632503\n",
       "Vehicle_condition           0.000000\n",
       "Type_of_vehicle             0.000000\n",
       "multiple_deliveries         2.178396\n",
       "dtype: float64"
      ]
     },
     "execution_count": 92,
     "metadata": {},
     "output_type": "execute_result"
    }
   ],
   "execution_count": 92
  },
  {
   "metadata": {
    "ExecuteTime": {
     "end_time": "2024-12-12T20:37:23.061367Z",
     "start_time": "2024-12-12T20:37:23.053472Z"
    }
   },
   "cell_type": "code",
   "source": [
    "# Since most of the data in placed_at and picked_at column was invalid that was converted into NAN, \n",
    "# so we will be filtering those records out(considering on the placed_at and picked_at column)"
   ],
   "id": "f2f65af42c1a4f2f",
   "outputs": [],
   "execution_count": 93
  },
  {
   "metadata": {
    "ExecuteTime": {
     "end_time": "2024-12-12T20:37:23.117237Z",
     "start_time": "2024-12-12T20:37:23.100759Z"
    }
   },
   "cell_type": "code",
   "source": "clean_data = clean_data.loc[~(clean_data['placed_at'].isna() | clean_data['picked_at'].isna())]",
   "id": "69828245aa88fc35",
   "outputs": [],
   "execution_count": 94
  },
  {
   "metadata": {
    "ExecuteTime": {
     "end_time": "2024-12-12T20:37:23.211574Z",
     "start_time": "2024-12-12T20:37:23.195478Z"
    }
   },
   "cell_type": "code",
   "source": "clean_data.isna().mean() * 100",
   "id": "d338c06d5feed678",
   "outputs": [
    {
     "data": {
      "text/plain": [
       "ID                         0.000000\n",
       "Delivery_person_ID         0.000000\n",
       "Delivery_person_Age        0.488604\n",
       "Delivery_person_Ratings    0.601576\n",
       "placed_at                  0.000000\n",
       "picked_at                  0.000000\n",
       "Time_taken (min)           0.000000\n",
       "Type_of_order              0.000000\n",
       "Weather_conditions         0.000000\n",
       "Road_traffic_density       0.000000\n",
       "Festival                   0.494253\n",
       "City                       2.598356\n",
       "Vehicle_condition          0.000000\n",
       "Type_of_vehicle            0.000000\n",
       "multiple_deliveries        2.154941\n",
       "dtype: float64"
      ]
     },
     "execution_count": 95,
     "metadata": {},
     "output_type": "execute_result"
    }
   ],
   "execution_count": 95
  },
  {
   "metadata": {
    "ExecuteTime": {
     "end_time": "2024-12-12T20:37:23.249244Z",
     "start_time": "2024-12-12T20:37:23.227114Z"
    }
   },
   "cell_type": "code",
   "source": [
    "# For the multiple_deliveries column,\n",
    "# there are about 2.15% of null values\n",
    "# We must find out the best replacement value, to fill the null values\n",
    "\n",
    "# So below is the distribution of Deliveries for each type of multiple delivery\n",
    "clean_data['multiple_deliveries'].value_counts(normalize=True, dropna=False) * 100\n",
    "\n",
    "\n",
    "# Let's Understand what each type of multiple delivery means\n",
    "# 0 - No Multiple Deliveries i.e. Delivery Person only delivered to 1 customer\n",
    "# 1 - One Multiple Delivery i.e. Delivery person only delivered to 2 customers\n",
    "# 2 - Two Multiple Delivery i.e. Delivery person only delivered to 3 customers\n",
    "# 3 - Three Multiple Delivery i.e. Delivery person only delivered to 4 customers"
   ],
   "id": "507c84fb097a36bc",
   "outputs": [
    {
     "data": {
      "text/plain": [
       "multiple_deliveries\n",
       "1.0    61.643178\n",
       "0.0    30.974101\n",
       "2.0     4.436976\n",
       "NaN     2.154941\n",
       "3.0     0.790804\n",
       "Name: proportion, dtype: float64"
      ]
     },
     "execution_count": 96,
     "metadata": {},
     "output_type": "execute_result"
    }
   ],
   "execution_count": 96
  },
  {
   "metadata": {
    "ExecuteTime": {
     "end_time": "2024-12-12T20:37:23.326198Z",
     "start_time": "2024-12-12T20:37:23.311475Z"
    }
   },
   "cell_type": "code",
   "source": [
    "# Now For proper imputation, we must figure out the 2.15% of missing data belongs to what type of multiple deliveries\n",
    "# for that we understood what is the avg time taken for the delivery for each type of multiple deliveries and \n",
    "# the avg time taken for the deliveries with missing data which comes out to be 22.56% that belongs to the category of 0-type of multiple Deliveries\n",
    "# Therefore for imputation, 0 is the appropriate fill value.\n",
    "clean_data.groupby(['multiple_deliveries']).agg(avg_time = ('Time_taken (min)', 'mean'), max_time= ('Time_taken (min)', 'max'), min_time=('Time_taken (min)', 'min'))"
   ],
   "id": "ee993d30c2508063",
   "outputs": [
    {
     "data": {
      "text/plain": [
       "                      avg_time  max_time  min_time\n",
       "multiple_deliveries                               \n",
       "0.0                  22.907997        54        10\n",
       "1.0                  26.917804        54        10\n",
       "2.0                  40.366645        54        31\n",
       "3.0                  47.867857        54        42"
      ],
      "text/html": [
       "<div>\n",
       "<style scoped>\n",
       "    .dataframe tbody tr th:only-of-type {\n",
       "        vertical-align: middle;\n",
       "    }\n",
       "\n",
       "    .dataframe tbody tr th {\n",
       "        vertical-align: top;\n",
       "    }\n",
       "\n",
       "    .dataframe thead th {\n",
       "        text-align: right;\n",
       "    }\n",
       "</style>\n",
       "<table border=\"1\" class=\"dataframe\">\n",
       "  <thead>\n",
       "    <tr style=\"text-align: right;\">\n",
       "      <th></th>\n",
       "      <th>avg_time</th>\n",
       "      <th>max_time</th>\n",
       "      <th>min_time</th>\n",
       "    </tr>\n",
       "    <tr>\n",
       "      <th>multiple_deliveries</th>\n",
       "      <th></th>\n",
       "      <th></th>\n",
       "      <th></th>\n",
       "    </tr>\n",
       "  </thead>\n",
       "  <tbody>\n",
       "    <tr>\n",
       "      <th>0.0</th>\n",
       "      <td>22.907997</td>\n",
       "      <td>54</td>\n",
       "      <td>10</td>\n",
       "    </tr>\n",
       "    <tr>\n",
       "      <th>1.0</th>\n",
       "      <td>26.917804</td>\n",
       "      <td>54</td>\n",
       "      <td>10</td>\n",
       "    </tr>\n",
       "    <tr>\n",
       "      <th>2.0</th>\n",
       "      <td>40.366645</td>\n",
       "      <td>54</td>\n",
       "      <td>31</td>\n",
       "    </tr>\n",
       "    <tr>\n",
       "      <th>3.0</th>\n",
       "      <td>47.867857</td>\n",
       "      <td>54</td>\n",
       "      <td>42</td>\n",
       "    </tr>\n",
       "  </tbody>\n",
       "</table>\n",
       "</div>"
      ]
     },
     "execution_count": 97,
     "metadata": {},
     "output_type": "execute_result"
    }
   ],
   "execution_count": 97
  },
  {
   "metadata": {
    "ExecuteTime": {
     "end_time": "2024-12-12T20:37:23.373096Z",
     "start_time": "2024-12-12T20:37:23.358548Z"
    }
   },
   "cell_type": "code",
   "source": "clean_data.loc[clean_data['multiple_deliveries'].isna()]['Time_taken (min)'].mean()",
   "id": "cfe66e6b44d45ec2",
   "outputs": [
    {
     "data": {
      "text/plain": [
       "np.float64(22.567496723460025)"
      ]
     },
     "execution_count": 98,
     "metadata": {},
     "output_type": "execute_result"
    }
   ],
   "execution_count": 98
  },
  {
   "metadata": {
    "ExecuteTime": {
     "end_time": "2024-12-12T20:37:23.449090Z",
     "start_time": "2024-12-12T20:37:23.444059Z"
    }
   },
   "cell_type": "code",
   "source": [
    "# After imputation\n",
    "clean_data.fillna({'multiple_deliveries': 0.0}, inplace=True)"
   ],
   "id": "308f8b11f0bac890",
   "outputs": [],
   "execution_count": 99
  },
  {
   "metadata": {
    "ExecuteTime": {
     "end_time": "2024-12-12T20:37:23.559277Z",
     "start_time": "2024-12-12T20:37:23.538272Z"
    }
   },
   "cell_type": "code",
   "source": "clean_data.groupby(['multiple_deliveries']).agg(avg_time = ('Time_taken (min)', 'mean'), max_time= ('Time_taken (min)', 'max'), min_time=('Time_taken (min)', 'min'))",
   "id": "5842c8d68029c0e",
   "outputs": [
    {
     "data": {
      "text/plain": [
       "                      avg_time  max_time  min_time\n",
       "multiple_deliveries                               \n",
       "0.0                  22.885848        54        10\n",
       "1.0                  26.917804        54        10\n",
       "2.0                  40.366645        54        31\n",
       "3.0                  47.867857        54        42"
      ],
      "text/html": [
       "<div>\n",
       "<style scoped>\n",
       "    .dataframe tbody tr th:only-of-type {\n",
       "        vertical-align: middle;\n",
       "    }\n",
       "\n",
       "    .dataframe tbody tr th {\n",
       "        vertical-align: top;\n",
       "    }\n",
       "\n",
       "    .dataframe thead th {\n",
       "        text-align: right;\n",
       "    }\n",
       "</style>\n",
       "<table border=\"1\" class=\"dataframe\">\n",
       "  <thead>\n",
       "    <tr style=\"text-align: right;\">\n",
       "      <th></th>\n",
       "      <th>avg_time</th>\n",
       "      <th>max_time</th>\n",
       "      <th>min_time</th>\n",
       "    </tr>\n",
       "    <tr>\n",
       "      <th>multiple_deliveries</th>\n",
       "      <th></th>\n",
       "      <th></th>\n",
       "      <th></th>\n",
       "    </tr>\n",
       "  </thead>\n",
       "  <tbody>\n",
       "    <tr>\n",
       "      <th>0.0</th>\n",
       "      <td>22.885848</td>\n",
       "      <td>54</td>\n",
       "      <td>10</td>\n",
       "    </tr>\n",
       "    <tr>\n",
       "      <th>1.0</th>\n",
       "      <td>26.917804</td>\n",
       "      <td>54</td>\n",
       "      <td>10</td>\n",
       "    </tr>\n",
       "    <tr>\n",
       "      <th>2.0</th>\n",
       "      <td>40.366645</td>\n",
       "      <td>54</td>\n",
       "      <td>31</td>\n",
       "    </tr>\n",
       "    <tr>\n",
       "      <th>3.0</th>\n",
       "      <td>47.867857</td>\n",
       "      <td>54</td>\n",
       "      <td>42</td>\n",
       "    </tr>\n",
       "  </tbody>\n",
       "</table>\n",
       "</div>"
      ]
     },
     "execution_count": 100,
     "metadata": {},
     "output_type": "execute_result"
    }
   ],
   "execution_count": 100
  },
  {
   "metadata": {
    "ExecuteTime": {
     "end_time": "2024-12-12T20:37:23.692771Z",
     "start_time": "2024-12-12T20:37:23.663581Z"
    }
   },
   "cell_type": "code",
   "source": "clean_data.isna().mean() * 100",
   "id": "cd6a3f091c37f080",
   "outputs": [
    {
     "data": {
      "text/plain": [
       "ID                         0.000000\n",
       "Delivery_person_ID         0.000000\n",
       "Delivery_person_Age        0.488604\n",
       "Delivery_person_Ratings    0.601576\n",
       "placed_at                  0.000000\n",
       "picked_at                  0.000000\n",
       "Time_taken (min)           0.000000\n",
       "Type_of_order              0.000000\n",
       "Weather_conditions         0.000000\n",
       "Road_traffic_density       0.000000\n",
       "Festival                   0.494253\n",
       "City                       2.598356\n",
       "Vehicle_condition          0.000000\n",
       "Type_of_vehicle            0.000000\n",
       "multiple_deliveries        0.000000\n",
       "dtype: float64"
      ]
     },
     "execution_count": 101,
     "metadata": {},
     "output_type": "execute_result"
    }
   ],
   "execution_count": 101
  },
  {
   "metadata": {
    "ExecuteTime": {
     "end_time": "2024-12-12T20:37:23.743773Z",
     "start_time": "2024-12-12T20:37:23.726647Z"
    }
   },
   "cell_type": "code",
   "source": "clean_data['City'].value_counts(normalize=True, dropna=False) * 100",
   "id": "935d5850a1a1ec4e",
   "outputs": [
    {
     "data": {
      "text/plain": [
       "City\n",
       "Metropolitian    74.776174\n",
       "Urban            22.241365\n",
       "NaN               2.598356\n",
       "Semi-Urban        0.384105\n",
       "Name: proportion, dtype: float64"
      ]
     },
     "execution_count": 102,
     "metadata": {},
     "output_type": "execute_result"
    }
   ],
   "execution_count": 102
  },
  {
   "metadata": {
    "ExecuteTime": {
     "end_time": "2024-12-12T20:37:23.834830Z",
     "start_time": "2024-12-12T20:37:23.812611Z"
    }
   },
   "cell_type": "code",
   "source": "clean_data.groupby(['City'])['Time_taken (min)'].mean()",
   "id": "e959f234704f8523",
   "outputs": [
    {
     "data": {
      "text/plain": [
       "City\n",
       "Metropolitian    27.381478\n",
       "Semi-Urban       49.661765\n",
       "Urban            22.937016\n",
       "Name: Time_taken (min), dtype: float64"
      ]
     },
     "execution_count": 103,
     "metadata": {},
     "output_type": "execute_result"
    }
   ],
   "execution_count": 103
  },
  {
   "metadata": {
    "ExecuteTime": {
     "end_time": "2024-12-12T20:37:23.913675Z",
     "start_time": "2024-12-12T20:37:23.891278Z"
    }
   },
   "cell_type": "code",
   "source": "clean_data.loc[clean_data['City'].isna()]['Time_taken (min)'].mean()",
   "id": "4c27685a090c9942",
   "outputs": [
    {
     "data": {
      "text/plain": [
       "np.float64(22.220652173913045)"
      ]
     },
     "execution_count": 104,
     "metadata": {},
     "output_type": "execute_result"
    }
   ],
   "execution_count": 104
  },
  {
   "metadata": {
    "ExecuteTime": {
     "end_time": "2024-12-12T20:37:24.055755Z",
     "start_time": "2024-12-12T20:37:24.044519Z"
    }
   },
   "cell_type": "code",
   "source": "clean_data.loc[clean_data['City'].isna()]['Road_traffic_density'].value_counts(normalize=True, dropna=False) * 100",
   "id": "c260dd9616b6ced8",
   "outputs": [
    {
     "data": {
      "text/plain": [
       "Road_traffic_density\n",
       "Low       43.478261\n",
       "Jam       24.565217\n",
       "Medium    23.586957\n",
       "High       8.369565\n",
       "Name: proportion, dtype: float64"
      ]
     },
     "execution_count": 105,
     "metadata": {},
     "output_type": "execute_result"
    }
   ],
   "execution_count": 105
  },
  {
   "metadata": {
    "ExecuteTime": {
     "end_time": "2024-12-12T20:37:24.120645Z",
     "start_time": "2024-12-12T20:37:24.107157Z"
    }
   },
   "cell_type": "code",
   "source": "clean_data.loc[clean_data['City'] == \"Urban\"]['Road_traffic_density'].value_counts(normalize=True, dropna=False) * 100",
   "id": "c64e31edb8271169",
   "outputs": [
    {
     "data": {
      "text/plain": [
       "Road_traffic_density\n",
       "Low       40.419048\n",
       "Jam       26.336508\n",
       "Medium    23.974603\n",
       "High       9.269841\n",
       "Name: proportion, dtype: float64"
      ]
     },
     "execution_count": 106,
     "metadata": {},
     "output_type": "execute_result"
    }
   ],
   "execution_count": 106
  },
  {
   "metadata": {
    "ExecuteTime": {
     "end_time": "2024-12-12T20:37:24.202353Z",
     "start_time": "2024-12-12T20:37:24.186776Z"
    }
   },
   "cell_type": "code",
   "source": [
    "# Now for the imputation of City Column,\n",
    "# we have to understand what replacement value fits the best\n",
    "# From the statistics above there is about 2.59% of missing data in city column\n",
    "# There are 3 distinct values for the city column i.e. Metropolitan, Urban, Semi-Urban\n",
    "# Lets Understand the avg delivery time for each type of city option, comparing it with the avg delivery time when city is null\n",
    "# For this scenario, the avg delivery time for Urban City matches closely with the avg delivery time when the city is null,\n",
    "# this suggests that it takes almost the same amount of avg time to deliver food in urban areas as compared to city with null values\n",
    "# Upon Further inspection regarding the Road traffic density for Urban Area deliveries and Null city Area deliveries, The comparison is almost same\n",
    "\n",
    "# Therefore for imputation the appropriate fill value can be Urban in the city column\n",
    "clean_data.fillna({'City': 'Urban'}, inplace=True)"
   ],
   "id": "3ecc8e761df212e5",
   "outputs": [],
   "execution_count": 107
  },
  {
   "metadata": {
    "ExecuteTime": {
     "end_time": "2024-12-12T20:37:24.248475Z",
     "start_time": "2024-12-12T20:37:24.233631Z"
    }
   },
   "cell_type": "code",
   "source": "clean_data['City'].value_counts(normalize=True, dropna=False) * 100",
   "id": "43d18ad34afe91d1",
   "outputs": [
    {
     "data": {
      "text/plain": [
       "City\n",
       "Metropolitian    74.776174\n",
       "Urban            24.839721\n",
       "Semi-Urban        0.384105\n",
       "Name: proportion, dtype: float64"
      ]
     },
     "execution_count": 108,
     "metadata": {},
     "output_type": "execute_result"
    }
   ],
   "execution_count": 108
  },
  {
   "metadata": {
    "ExecuteTime": {
     "end_time": "2024-12-12T20:37:24.356242Z",
     "start_time": "2024-12-12T20:37:24.333380Z"
    }
   },
   "cell_type": "code",
   "source": "clean_data.groupby('City')['Time_taken (min)'].mean()",
   "id": "ca8d26bb7aa84af",
   "outputs": [
    {
     "data": {
      "text/plain": [
       "City\n",
       "Metropolitian    27.381478\n",
       "Semi-Urban       49.661765\n",
       "Urban            22.862081\n",
       "Name: Time_taken (min), dtype: float64"
      ]
     },
     "execution_count": 109,
     "metadata": {},
     "output_type": "execute_result"
    }
   ],
   "execution_count": 109
  },
  {
   "metadata": {
    "ExecuteTime": {
     "end_time": "2024-12-12T20:37:24.392055Z",
     "start_time": "2024-12-12T20:37:24.364780Z"
    }
   },
   "cell_type": "code",
   "source": "clean_data.isna().mean() * 100",
   "id": "77ecd2eaa9ac348c",
   "outputs": [
    {
     "data": {
      "text/plain": [
       "ID                         0.000000\n",
       "Delivery_person_ID         0.000000\n",
       "Delivery_person_Age        0.488604\n",
       "Delivery_person_Ratings    0.601576\n",
       "placed_at                  0.000000\n",
       "picked_at                  0.000000\n",
       "Time_taken (min)           0.000000\n",
       "Type_of_order              0.000000\n",
       "Weather_conditions         0.000000\n",
       "Road_traffic_density       0.000000\n",
       "Festival                   0.494253\n",
       "City                       0.000000\n",
       "Vehicle_condition          0.000000\n",
       "Type_of_vehicle            0.000000\n",
       "multiple_deliveries        0.000000\n",
       "dtype: float64"
      ]
     },
     "execution_count": 110,
     "metadata": {},
     "output_type": "execute_result"
    }
   ],
   "execution_count": 110
  },
  {
   "metadata": {
    "ExecuteTime": {
     "end_time": "2024-12-12T20:37:24.443441Z",
     "start_time": "2024-12-12T20:37:24.427404Z"
    }
   },
   "cell_type": "code",
   "source": "clean_data['Festival'].value_counts(normalize=True, dropna=False) * 100",
   "id": "b33e79a82e37e354",
   "outputs": [
    {
     "data": {
      "text/plain": [
       "Festival\n",
       "No     97.537210\n",
       "Yes     1.968537\n",
       "NaN     0.494253\n",
       "Name: proportion, dtype: float64"
      ]
     },
     "execution_count": 111,
     "metadata": {},
     "output_type": "execute_result"
    }
   ],
   "execution_count": 111
  },
  {
   "metadata": {
    "ExecuteTime": {
     "end_time": "2024-12-12T20:37:24.534918Z",
     "start_time": "2024-12-12T20:37:24.521699Z"
    }
   },
   "cell_type": "code",
   "source": "clean_data.groupby('Festival')['Time_taken (min)'].mean()",
   "id": "d9f93a0b62091331",
   "outputs": [
    {
     "data": {
      "text/plain": [
       "Festival\n",
       "No     26.034168\n",
       "Yes    45.530846\n",
       "Name: Time_taken (min), dtype: float64"
      ]
     },
     "execution_count": 112,
     "metadata": {},
     "output_type": "execute_result"
    }
   ],
   "execution_count": 112
  },
  {
   "metadata": {
    "ExecuteTime": {
     "end_time": "2024-12-12T20:37:24.642253Z",
     "start_time": "2024-12-12T20:37:24.625302Z"
    }
   },
   "cell_type": "code",
   "source": "clean_data.loc[clean_data['Festival'].isna()]['Time_taken (min)'].mean()",
   "id": "cd6843f342cf1fa1",
   "outputs": [
    {
     "data": {
      "text/plain": [
       "np.float64(11.16)"
      ]
     },
     "execution_count": 113,
     "metadata": {},
     "output_type": "execute_result"
    }
   ],
   "execution_count": 113
  },
  {
   "metadata": {
    "ExecuteTime": {
     "end_time": "2024-12-12T20:37:24.697785Z",
     "start_time": "2024-12-12T20:37:24.688132Z"
    }
   },
   "cell_type": "code",
   "source": [
    "# Notice that the avg delivery time for the missing data in festival column does not match with avg delivery time for when there was and was not a festival\n",
    "# also In the festival Column, about 0.49% of data is missing, which is comparatively less so instead of imputation we can perform deletion (Filtering)"
   ],
   "id": "c700b4f7734137e3",
   "outputs": [],
   "execution_count": 114
  },
  {
   "metadata": {
    "ExecuteTime": {
     "end_time": "2024-12-12T20:37:24.787690Z",
     "start_time": "2024-12-12T20:37:24.766418Z"
    }
   },
   "cell_type": "code",
   "source": "clean_data = clean_data.loc[~clean_data['Festival'].isna()]",
   "id": "4765723e9b70a512",
   "outputs": [],
   "execution_count": 115
  },
  {
   "metadata": {
    "ExecuteTime": {
     "end_time": "2024-12-12T20:37:24.875234Z",
     "start_time": "2024-12-12T20:37:24.860310Z"
    }
   },
   "cell_type": "code",
   "source": "clean_data.Festival.value_counts(normalize=True, dropna=False) * 100",
   "id": "cddd4b6cc878fadf",
   "outputs": [
    {
     "data": {
      "text/plain": [
       "Festival\n",
       "No     98.021685\n",
       "Yes     1.978315\n",
       "Name: proportion, dtype: float64"
      ]
     },
     "execution_count": 116,
     "metadata": {},
     "output_type": "execute_result"
    }
   ],
   "execution_count": 116
  },
  {
   "metadata": {
    "ExecuteTime": {
     "end_time": "2024-12-12T20:37:24.965536Z",
     "start_time": "2024-12-12T20:37:24.938757Z"
    }
   },
   "cell_type": "code",
   "source": "clean_data.isna().mean() * 100",
   "id": "eb8ef72c709b4d10",
   "outputs": [
    {
     "data": {
      "text/plain": [
       "ID                         0.000000\n",
       "Delivery_person_ID         0.000000\n",
       "Delivery_person_Age        0.488193\n",
       "Delivery_person_Ratings    0.598887\n",
       "placed_at                  0.000000\n",
       "picked_at                  0.000000\n",
       "Time_taken (min)           0.000000\n",
       "Type_of_order              0.000000\n",
       "Weather_conditions         0.000000\n",
       "Road_traffic_density       0.000000\n",
       "Festival                   0.000000\n",
       "City                       0.000000\n",
       "Vehicle_condition          0.000000\n",
       "Type_of_vehicle            0.000000\n",
       "multiple_deliveries        0.000000\n",
       "dtype: float64"
      ]
     },
     "execution_count": 117,
     "metadata": {},
     "output_type": "execute_result"
    }
   ],
   "execution_count": 117
  },
  {
   "metadata": {
    "ExecuteTime": {
     "end_time": "2024-12-12T20:37:24.986200Z",
     "start_time": "2024-12-12T20:37:24.970047Z"
    }
   },
   "cell_type": "code",
   "source": [
    "# Now for Age and Rating column, since these columns contains Numerical Data so performing imputation\n",
    "# is not about selecting an option as the fill value that fits appropriately\n",
    "# But on the basis of data distribution, a random value or synthetic data will be chosen as the replacement value\n",
    "# such that it does not disturb the original distribution of data"
   ],
   "id": "ec39ea92249c59bc",
   "outputs": [],
   "execution_count": 118
  },
  {
   "metadata": {
    "ExecuteTime": {
     "end_time": "2024-12-12T20:37:25.102544Z",
     "start_time": "2024-12-12T20:37:25.084219Z"
    }
   },
   "cell_type": "code",
   "source": [
    "clean_data['Delivery_person_Ratings'].describe()\n",
    "# As you can see about 75% of deliveries are done by person with ratings between 4.5 and 5\n",
    "synthetic_rating = np.random.randint(45, 51)/10"
   ],
   "id": "b15d5fa81164311b",
   "outputs": [],
   "execution_count": 119
  },
  {
   "metadata": {
    "ExecuteTime": {
     "end_time": "2024-12-12T20:37:25.165877Z",
     "start_time": "2024-12-12T20:37:25.146926Z"
    }
   },
   "cell_type": "code",
   "source": [
    "clean_data['Delivery_person_Age'].describe()\n",
    "# since the data distribution is this case is almost symmetric\n",
    "# Median as the fill value can be a good and simple option"
   ],
   "id": "3d68265473096c90",
   "outputs": [
    {
     "data": {
      "text/plain": [
       "count    35060.000000\n",
       "mean        29.602852\n",
       "std          5.767222\n",
       "min         20.000000\n",
       "25%         25.000000\n",
       "50%         30.000000\n",
       "75%         35.000000\n",
       "max         39.000000\n",
       "Name: Delivery_person_Age, dtype: float64"
      ]
     },
     "execution_count": 120,
     "metadata": {},
     "output_type": "execute_result"
    }
   ],
   "execution_count": 120
  },
  {
   "metadata": {
    "ExecuteTime": {
     "end_time": "2024-12-12T20:37:25.268249Z",
     "start_time": "2024-12-12T20:37:25.258792Z"
    }
   },
   "cell_type": "code",
   "source": [
    "clean_data.fillna({'Delivery_person_Age': clean_data['Delivery_person_Age'].median(),\n",
    "                   'Delivery_person_Ratings': synthetic_rating}, inplace=True)"
   ],
   "id": "d51b6b250890801",
   "outputs": [],
   "execution_count": 121
  },
  {
   "metadata": {
    "ExecuteTime": {
     "end_time": "2024-12-12T20:37:25.320120Z",
     "start_time": "2024-12-12T20:37:25.290485Z"
    }
   },
   "cell_type": "code",
   "source": "clean_data.describe()",
   "id": "22580c09e8e7f5e",
   "outputs": [
    {
     "data": {
      "text/plain": [
       "       Delivery_person_Age  Delivery_person_Ratings  \\\n",
       "count         35232.000000             35232.000000   \n",
       "mean             29.604791                 4.636722   \n",
       "min              20.000000                 2.500000   \n",
       "25%              25.000000                 4.500000   \n",
       "50%              30.000000                 4.700000   \n",
       "75%              35.000000                 4.900000   \n",
       "max              39.000000                 5.000000   \n",
       "std               5.753193                 0.314267   \n",
       "\n",
       "                           placed_at                      picked_at  \\\n",
       "count                          35232                          35232   \n",
       "mean   2022-03-14 10:35:59.800749312  2022-03-14 10:45:56.428814592   \n",
       "min              2022-02-11 08:10:00            2022-02-11 08:15:00   \n",
       "25%              2022-03-04 23:15:00            2022-03-04 23:25:00   \n",
       "50%              2022-03-15 17:10:00            2022-03-15 17:22:30   \n",
       "75%              2022-03-27 17:55:00            2022-03-27 18:05:00   \n",
       "max              2022-04-06 23:50:00            2022-04-06 23:55:00   \n",
       "std                              NaN                            NaN   \n",
       "\n",
       "       Time_taken (min)  Vehicle_condition  multiple_deliveries  \n",
       "count      35232.000000       35232.000000         35232.000000  \n",
       "mean          26.419874           0.998524             0.731012  \n",
       "min           10.000000           0.000000             0.000000  \n",
       "25%           19.000000           0.000000             0.000000  \n",
       "50%           26.000000           1.000000             1.000000  \n",
       "75%           33.000000           2.000000             1.000000  \n",
       "max           54.000000           2.000000             3.000000  \n",
       "std            9.356421           0.817445             0.577501  "
      ],
      "text/html": [
       "<div>\n",
       "<style scoped>\n",
       "    .dataframe tbody tr th:only-of-type {\n",
       "        vertical-align: middle;\n",
       "    }\n",
       "\n",
       "    .dataframe tbody tr th {\n",
       "        vertical-align: top;\n",
       "    }\n",
       "\n",
       "    .dataframe thead th {\n",
       "        text-align: right;\n",
       "    }\n",
       "</style>\n",
       "<table border=\"1\" class=\"dataframe\">\n",
       "  <thead>\n",
       "    <tr style=\"text-align: right;\">\n",
       "      <th></th>\n",
       "      <th>Delivery_person_Age</th>\n",
       "      <th>Delivery_person_Ratings</th>\n",
       "      <th>placed_at</th>\n",
       "      <th>picked_at</th>\n",
       "      <th>Time_taken (min)</th>\n",
       "      <th>Vehicle_condition</th>\n",
       "      <th>multiple_deliveries</th>\n",
       "    </tr>\n",
       "  </thead>\n",
       "  <tbody>\n",
       "    <tr>\n",
       "      <th>count</th>\n",
       "      <td>35232.000000</td>\n",
       "      <td>35232.000000</td>\n",
       "      <td>35232</td>\n",
       "      <td>35232</td>\n",
       "      <td>35232.000000</td>\n",
       "      <td>35232.000000</td>\n",
       "      <td>35232.000000</td>\n",
       "    </tr>\n",
       "    <tr>\n",
       "      <th>mean</th>\n",
       "      <td>29.604791</td>\n",
       "      <td>4.636722</td>\n",
       "      <td>2022-03-14 10:35:59.800749312</td>\n",
       "      <td>2022-03-14 10:45:56.428814592</td>\n",
       "      <td>26.419874</td>\n",
       "      <td>0.998524</td>\n",
       "      <td>0.731012</td>\n",
       "    </tr>\n",
       "    <tr>\n",
       "      <th>min</th>\n",
       "      <td>20.000000</td>\n",
       "      <td>2.500000</td>\n",
       "      <td>2022-02-11 08:10:00</td>\n",
       "      <td>2022-02-11 08:15:00</td>\n",
       "      <td>10.000000</td>\n",
       "      <td>0.000000</td>\n",
       "      <td>0.000000</td>\n",
       "    </tr>\n",
       "    <tr>\n",
       "      <th>25%</th>\n",
       "      <td>25.000000</td>\n",
       "      <td>4.500000</td>\n",
       "      <td>2022-03-04 23:15:00</td>\n",
       "      <td>2022-03-04 23:25:00</td>\n",
       "      <td>19.000000</td>\n",
       "      <td>0.000000</td>\n",
       "      <td>0.000000</td>\n",
       "    </tr>\n",
       "    <tr>\n",
       "      <th>50%</th>\n",
       "      <td>30.000000</td>\n",
       "      <td>4.700000</td>\n",
       "      <td>2022-03-15 17:10:00</td>\n",
       "      <td>2022-03-15 17:22:30</td>\n",
       "      <td>26.000000</td>\n",
       "      <td>1.000000</td>\n",
       "      <td>1.000000</td>\n",
       "    </tr>\n",
       "    <tr>\n",
       "      <th>75%</th>\n",
       "      <td>35.000000</td>\n",
       "      <td>4.900000</td>\n",
       "      <td>2022-03-27 17:55:00</td>\n",
       "      <td>2022-03-27 18:05:00</td>\n",
       "      <td>33.000000</td>\n",
       "      <td>2.000000</td>\n",
       "      <td>1.000000</td>\n",
       "    </tr>\n",
       "    <tr>\n",
       "      <th>max</th>\n",
       "      <td>39.000000</td>\n",
       "      <td>5.000000</td>\n",
       "      <td>2022-04-06 23:50:00</td>\n",
       "      <td>2022-04-06 23:55:00</td>\n",
       "      <td>54.000000</td>\n",
       "      <td>2.000000</td>\n",
       "      <td>3.000000</td>\n",
       "    </tr>\n",
       "    <tr>\n",
       "      <th>std</th>\n",
       "      <td>5.753193</td>\n",
       "      <td>0.314267</td>\n",
       "      <td>NaN</td>\n",
       "      <td>NaN</td>\n",
       "      <td>9.356421</td>\n",
       "      <td>0.817445</td>\n",
       "      <td>0.577501</td>\n",
       "    </tr>\n",
       "  </tbody>\n",
       "</table>\n",
       "</div>"
      ]
     },
     "execution_count": 122,
     "metadata": {},
     "output_type": "execute_result"
    }
   ],
   "execution_count": 122
  },
  {
   "metadata": {
    "ExecuteTime": {
     "end_time": "2024-12-12T20:37:25.389207Z",
     "start_time": "2024-12-12T20:37:25.368271Z"
    }
   },
   "cell_type": "code",
   "source": [
    "# Changing the dtype of columns\n",
    "clean_data = clean_data.astype({'Delivery_person_Age': 'int32'})"
   ],
   "id": "752f33c60939b5ce",
   "outputs": [],
   "execution_count": 123
  },
  {
   "metadata": {
    "ExecuteTime": {
     "end_time": "2024-12-12T20:37:25.509729Z",
     "start_time": "2024-12-12T20:37:25.431024Z"
    }
   },
   "cell_type": "code",
   "source": "clean_data.info(memory_usage = 'deep')",
   "id": "9f14fee601da3ad7",
   "outputs": [
    {
     "name": "stdout",
     "output_type": "stream",
     "text": [
      "<class 'pandas.core.frame.DataFrame'>\n",
      "Index: 35232 entries, 0 to 45583\n",
      "Data columns (total 15 columns):\n",
      " #   Column                   Non-Null Count  Dtype         \n",
      "---  ------                   --------------  -----         \n",
      " 0   ID                       35232 non-null  object        \n",
      " 1   Delivery_person_ID       35232 non-null  object        \n",
      " 2   Delivery_person_Age      35232 non-null  int32         \n",
      " 3   Delivery_person_Ratings  35232 non-null  float64       \n",
      " 4   placed_at                35232 non-null  datetime64[ns]\n",
      " 5   picked_at                35232 non-null  datetime64[ns]\n",
      " 6   Time_taken (min)         35232 non-null  int64         \n",
      " 7   Type_of_order            35232 non-null  object        \n",
      " 8   Weather_conditions       35232 non-null  object        \n",
      " 9   Road_traffic_density     35232 non-null  object        \n",
      " 10  Festival                 35232 non-null  object        \n",
      " 11  City                     35232 non-null  object        \n",
      " 12  Vehicle_condition        35232 non-null  int64         \n",
      " 13  Type_of_vehicle          35232 non-null  object        \n",
      " 14  multiple_deliveries      35232 non-null  float64       \n",
      "dtypes: datetime64[ns](2), float64(2), int32(1), int64(2), object(8)\n",
      "memory usage: 17.1 MB\n"
     ]
    }
   ],
   "execution_count": 124
  },
  {
   "metadata": {
    "ExecuteTime": {
     "end_time": "2024-12-12T20:37:25.553505Z",
     "start_time": "2024-12-12T20:37:25.524769Z"
    }
   },
   "cell_type": "code",
   "source": [
    "# since this data was obtained from kaggle, so it has some inconsistencies\n",
    "# for Delivery person age and ratings,\n",
    "# which naturally should be fixed for each individual but according to the data,\n",
    "# each delivery person has different age and rating for each delivery it makes.\n",
    "\n",
    "# To Fix this, we are going to aggregate the age and rating (Average) for each delivery person\n",
    "# and join it with the original clean data and keep the new aggregated columns, removing the old ones\n",
    "aggregated_data = clean_data.groupby('Delivery_person_ID').agg(\n",
    "    PersonAge = ('Delivery_person_Age', 'mean'),\n",
    "    PersonRating = ('Delivery_person_Ratings', 'min')\n",
    ")"
   ],
   "id": "7ac2498db2f1a375",
   "outputs": [],
   "execution_count": 125
  },
  {
   "metadata": {
    "ExecuteTime": {
     "end_time": "2024-12-12T20:37:25.600954Z",
     "start_time": "2024-12-12T20:37:25.587795Z"
    }
   },
   "cell_type": "code",
   "source": [
    "final_data = aggregated_data.assign(\n",
    "    PersonAge = aggregated_data['PersonAge'].round().astype('int32'),\n",
    "    PersonRating = aggregated_data['PersonRating'].round(1)\n",
    ").reset_index()"
   ],
   "id": "62cde29539f89256",
   "outputs": [],
   "execution_count": 126
  },
  {
   "metadata": {
    "ExecuteTime": {
     "end_time": "2024-12-12T20:37:25.776790Z",
     "start_time": "2024-12-12T20:37:25.769125Z"
    }
   },
   "cell_type": "code",
   "source": "final_data['PersonRating'].describe()",
   "id": "7c699cbc0ab88486",
   "outputs": [
    {
     "data": {
      "text/plain": [
       "count    1320.000000\n",
       "mean        3.849318\n",
       "std         0.444731\n",
       "min         2.500000\n",
       "25%         3.600000\n",
       "50%         3.900000\n",
       "75%         4.100000\n",
       "max         4.800000\n",
       "Name: PersonRating, dtype: float64"
      ]
     },
     "execution_count": 127,
     "metadata": {},
     "output_type": "execute_result"
    }
   ],
   "execution_count": 127
  },
  {
   "metadata": {
    "ExecuteTime": {
     "end_time": "2024-12-12T20:37:25.818682Z",
     "start_time": "2024-12-12T20:37:25.800483Z"
    }
   },
   "cell_type": "code",
   "source": "clean_data",
   "id": "e8a5965d5aa6ab22",
   "outputs": [
    {
     "data": {
      "text/plain": [
       "           ID Delivery_person_ID  Delivery_person_Age  \\\n",
       "0      0xcdcd      DEHRES17DEL01                   36   \n",
       "1      0xd987      KOCRES16DEL01                   21   \n",
       "2      0x2784     PUNERES13DEL03                   23   \n",
       "3      0xc8b6     LUDHRES15DEL02                   34   \n",
       "4      0xdb64      KNPRES14DEL02                   24   \n",
       "...       ...                ...                  ...   \n",
       "45578  0x1178   RANCHIRES16DEL01                   35   \n",
       "45579  0x7c09      JAPRES04DEL01                   30   \n",
       "45580  0xd641      AGRRES16DEL01                   21   \n",
       "45582  0x5eee    COIMBRES11DEL01                   20   \n",
       "45583  0x5fb2   RANCHIRES09DEL02                   23   \n",
       "\n",
       "       Delivery_person_Ratings           placed_at           picked_at  \\\n",
       "0                          4.2 2022-02-12 21:55:00 2022-02-12 22:10:00   \n",
       "1                          4.7 2022-02-13 14:55:00 2022-02-13 15:05:00   \n",
       "2                          4.7 2022-03-04 17:30:00 2022-03-04 17:40:00   \n",
       "3                          4.3 2022-02-13 09:20:00 2022-02-13 09:30:00   \n",
       "4                          4.7 2022-02-14 19:50:00 2022-02-14 20:05:00   \n",
       "...                        ...                 ...                 ...   \n",
       "45578                      4.2 2022-03-08 21:45:00 2022-03-08 21:55:00   \n",
       "45579                      4.8 2022-03-24 11:35:00 2022-03-24 11:45:00   \n",
       "45580                      4.6 2022-02-16 19:55:00 2022-02-16 20:10:00   \n",
       "45582                      4.7 2022-03-07 13:35:00 2022-03-07 13:40:00   \n",
       "45583                      4.9 2022-03-02 17:10:00 2022-03-02 17:15:00   \n",
       "\n",
       "       Time_taken (min) Type_of_order Weather_conditions Road_traffic_density  \\\n",
       "0                    46         Snack                Fog                  Jam   \n",
       "1                    23          Meal             Stormy                 High   \n",
       "2                    21        Drinks         Sandstorms               Medium   \n",
       "3                    20        Buffet         Sandstorms                  Low   \n",
       "4                    41         Snack                Fog                  Jam   \n",
       "...                 ...           ...                ...                  ...   \n",
       "45578                33        Drinks              Windy                  Jam   \n",
       "45579                32          Meal              Windy                 High   \n",
       "45580                36        Buffet              Windy                  Jam   \n",
       "45582                26         Snack             Cloudy                 High   \n",
       "45583                36         Snack                Fog               Medium   \n",
       "\n",
       "      Festival           City  Vehicle_condition Type_of_vehicle  \\\n",
       "0           No  Metropolitian                  2      motorcycle   \n",
       "1           No  Metropolitian                  1      motorcycle   \n",
       "2           No  Metropolitian                  1         scooter   \n",
       "3           No  Metropolitian                  0      motorcycle   \n",
       "4           No  Metropolitian                  1         scooter   \n",
       "...        ...            ...                ...             ...   \n",
       "45578       No  Metropolitian                  2      motorcycle   \n",
       "45579       No  Metropolitian                  1      motorcycle   \n",
       "45580       No  Metropolitian                  0      motorcycle   \n",
       "45582       No  Metropolitian                  0      motorcycle   \n",
       "45583       No  Metropolitian                  2         scooter   \n",
       "\n",
       "       multiple_deliveries  \n",
       "0                      3.0  \n",
       "1                      1.0  \n",
       "2                      1.0  \n",
       "3                      0.0  \n",
       "4                      1.0  \n",
       "...                    ...  \n",
       "45578                  1.0  \n",
       "45579                  0.0  \n",
       "45580                  1.0  \n",
       "45582                  1.0  \n",
       "45583                  1.0  \n",
       "\n",
       "[35232 rows x 15 columns]"
      ],
      "text/html": [
       "<div>\n",
       "<style scoped>\n",
       "    .dataframe tbody tr th:only-of-type {\n",
       "        vertical-align: middle;\n",
       "    }\n",
       "\n",
       "    .dataframe tbody tr th {\n",
       "        vertical-align: top;\n",
       "    }\n",
       "\n",
       "    .dataframe thead th {\n",
       "        text-align: right;\n",
       "    }\n",
       "</style>\n",
       "<table border=\"1\" class=\"dataframe\">\n",
       "  <thead>\n",
       "    <tr style=\"text-align: right;\">\n",
       "      <th></th>\n",
       "      <th>ID</th>\n",
       "      <th>Delivery_person_ID</th>\n",
       "      <th>Delivery_person_Age</th>\n",
       "      <th>Delivery_person_Ratings</th>\n",
       "      <th>placed_at</th>\n",
       "      <th>picked_at</th>\n",
       "      <th>Time_taken (min)</th>\n",
       "      <th>Type_of_order</th>\n",
       "      <th>Weather_conditions</th>\n",
       "      <th>Road_traffic_density</th>\n",
       "      <th>Festival</th>\n",
       "      <th>City</th>\n",
       "      <th>Vehicle_condition</th>\n",
       "      <th>Type_of_vehicle</th>\n",
       "      <th>multiple_deliveries</th>\n",
       "    </tr>\n",
       "  </thead>\n",
       "  <tbody>\n",
       "    <tr>\n",
       "      <th>0</th>\n",
       "      <td>0xcdcd</td>\n",
       "      <td>DEHRES17DEL01</td>\n",
       "      <td>36</td>\n",
       "      <td>4.2</td>\n",
       "      <td>2022-02-12 21:55:00</td>\n",
       "      <td>2022-02-12 22:10:00</td>\n",
       "      <td>46</td>\n",
       "      <td>Snack</td>\n",
       "      <td>Fog</td>\n",
       "      <td>Jam</td>\n",
       "      <td>No</td>\n",
       "      <td>Metropolitian</td>\n",
       "      <td>2</td>\n",
       "      <td>motorcycle</td>\n",
       "      <td>3.0</td>\n",
       "    </tr>\n",
       "    <tr>\n",
       "      <th>1</th>\n",
       "      <td>0xd987</td>\n",
       "      <td>KOCRES16DEL01</td>\n",
       "      <td>21</td>\n",
       "      <td>4.7</td>\n",
       "      <td>2022-02-13 14:55:00</td>\n",
       "      <td>2022-02-13 15:05:00</td>\n",
       "      <td>23</td>\n",
       "      <td>Meal</td>\n",
       "      <td>Stormy</td>\n",
       "      <td>High</td>\n",
       "      <td>No</td>\n",
       "      <td>Metropolitian</td>\n",
       "      <td>1</td>\n",
       "      <td>motorcycle</td>\n",
       "      <td>1.0</td>\n",
       "    </tr>\n",
       "    <tr>\n",
       "      <th>2</th>\n",
       "      <td>0x2784</td>\n",
       "      <td>PUNERES13DEL03</td>\n",
       "      <td>23</td>\n",
       "      <td>4.7</td>\n",
       "      <td>2022-03-04 17:30:00</td>\n",
       "      <td>2022-03-04 17:40:00</td>\n",
       "      <td>21</td>\n",
       "      <td>Drinks</td>\n",
       "      <td>Sandstorms</td>\n",
       "      <td>Medium</td>\n",
       "      <td>No</td>\n",
       "      <td>Metropolitian</td>\n",
       "      <td>1</td>\n",
       "      <td>scooter</td>\n",
       "      <td>1.0</td>\n",
       "    </tr>\n",
       "    <tr>\n",
       "      <th>3</th>\n",
       "      <td>0xc8b6</td>\n",
       "      <td>LUDHRES15DEL02</td>\n",
       "      <td>34</td>\n",
       "      <td>4.3</td>\n",
       "      <td>2022-02-13 09:20:00</td>\n",
       "      <td>2022-02-13 09:30:00</td>\n",
       "      <td>20</td>\n",
       "      <td>Buffet</td>\n",
       "      <td>Sandstorms</td>\n",
       "      <td>Low</td>\n",
       "      <td>No</td>\n",
       "      <td>Metropolitian</td>\n",
       "      <td>0</td>\n",
       "      <td>motorcycle</td>\n",
       "      <td>0.0</td>\n",
       "    </tr>\n",
       "    <tr>\n",
       "      <th>4</th>\n",
       "      <td>0xdb64</td>\n",
       "      <td>KNPRES14DEL02</td>\n",
       "      <td>24</td>\n",
       "      <td>4.7</td>\n",
       "      <td>2022-02-14 19:50:00</td>\n",
       "      <td>2022-02-14 20:05:00</td>\n",
       "      <td>41</td>\n",
       "      <td>Snack</td>\n",
       "      <td>Fog</td>\n",
       "      <td>Jam</td>\n",
       "      <td>No</td>\n",
       "      <td>Metropolitian</td>\n",
       "      <td>1</td>\n",
       "      <td>scooter</td>\n",
       "      <td>1.0</td>\n",
       "    </tr>\n",
       "    <tr>\n",
       "      <th>...</th>\n",
       "      <td>...</td>\n",
       "      <td>...</td>\n",
       "      <td>...</td>\n",
       "      <td>...</td>\n",
       "      <td>...</td>\n",
       "      <td>...</td>\n",
       "      <td>...</td>\n",
       "      <td>...</td>\n",
       "      <td>...</td>\n",
       "      <td>...</td>\n",
       "      <td>...</td>\n",
       "      <td>...</td>\n",
       "      <td>...</td>\n",
       "      <td>...</td>\n",
       "      <td>...</td>\n",
       "    </tr>\n",
       "    <tr>\n",
       "      <th>45578</th>\n",
       "      <td>0x1178</td>\n",
       "      <td>RANCHIRES16DEL01</td>\n",
       "      <td>35</td>\n",
       "      <td>4.2</td>\n",
       "      <td>2022-03-08 21:45:00</td>\n",
       "      <td>2022-03-08 21:55:00</td>\n",
       "      <td>33</td>\n",
       "      <td>Drinks</td>\n",
       "      <td>Windy</td>\n",
       "      <td>Jam</td>\n",
       "      <td>No</td>\n",
       "      <td>Metropolitian</td>\n",
       "      <td>2</td>\n",
       "      <td>motorcycle</td>\n",
       "      <td>1.0</td>\n",
       "    </tr>\n",
       "    <tr>\n",
       "      <th>45579</th>\n",
       "      <td>0x7c09</td>\n",
       "      <td>JAPRES04DEL01</td>\n",
       "      <td>30</td>\n",
       "      <td>4.8</td>\n",
       "      <td>2022-03-24 11:35:00</td>\n",
       "      <td>2022-03-24 11:45:00</td>\n",
       "      <td>32</td>\n",
       "      <td>Meal</td>\n",
       "      <td>Windy</td>\n",
       "      <td>High</td>\n",
       "      <td>No</td>\n",
       "      <td>Metropolitian</td>\n",
       "      <td>1</td>\n",
       "      <td>motorcycle</td>\n",
       "      <td>0.0</td>\n",
       "    </tr>\n",
       "    <tr>\n",
       "      <th>45580</th>\n",
       "      <td>0xd641</td>\n",
       "      <td>AGRRES16DEL01</td>\n",
       "      <td>21</td>\n",
       "      <td>4.6</td>\n",
       "      <td>2022-02-16 19:55:00</td>\n",
       "      <td>2022-02-16 20:10:00</td>\n",
       "      <td>36</td>\n",
       "      <td>Buffet</td>\n",
       "      <td>Windy</td>\n",
       "      <td>Jam</td>\n",
       "      <td>No</td>\n",
       "      <td>Metropolitian</td>\n",
       "      <td>0</td>\n",
       "      <td>motorcycle</td>\n",
       "      <td>1.0</td>\n",
       "    </tr>\n",
       "    <tr>\n",
       "      <th>45582</th>\n",
       "      <td>0x5eee</td>\n",
       "      <td>COIMBRES11DEL01</td>\n",
       "      <td>20</td>\n",
       "      <td>4.7</td>\n",
       "      <td>2022-03-07 13:35:00</td>\n",
       "      <td>2022-03-07 13:40:00</td>\n",
       "      <td>26</td>\n",
       "      <td>Snack</td>\n",
       "      <td>Cloudy</td>\n",
       "      <td>High</td>\n",
       "      <td>No</td>\n",
       "      <td>Metropolitian</td>\n",
       "      <td>0</td>\n",
       "      <td>motorcycle</td>\n",
       "      <td>1.0</td>\n",
       "    </tr>\n",
       "    <tr>\n",
       "      <th>45583</th>\n",
       "      <td>0x5fb2</td>\n",
       "      <td>RANCHIRES09DEL02</td>\n",
       "      <td>23</td>\n",
       "      <td>4.9</td>\n",
       "      <td>2022-03-02 17:10:00</td>\n",
       "      <td>2022-03-02 17:15:00</td>\n",
       "      <td>36</td>\n",
       "      <td>Snack</td>\n",
       "      <td>Fog</td>\n",
       "      <td>Medium</td>\n",
       "      <td>No</td>\n",
       "      <td>Metropolitian</td>\n",
       "      <td>2</td>\n",
       "      <td>scooter</td>\n",
       "      <td>1.0</td>\n",
       "    </tr>\n",
       "  </tbody>\n",
       "</table>\n",
       "<p>35232 rows × 15 columns</p>\n",
       "</div>"
      ]
     },
     "execution_count": 128,
     "metadata": {},
     "output_type": "execute_result"
    }
   ],
   "execution_count": 128
  },
  {
   "metadata": {
    "ExecuteTime": {
     "end_time": "2024-12-12T20:37:25.922124Z",
     "start_time": "2024-12-12T20:37:25.896101Z"
    }
   },
   "cell_type": "code",
   "source": [
    "final_clean_data = pd.merge(\n",
    "    left=clean_data,\n",
    "    right=final_data,\n",
    "    left_on=['Delivery_person_ID'],\n",
    "    right_on=['Delivery_person_ID'],\n",
    "    how='inner'\n",
    ").drop(['Delivery_person_Age', 'Delivery_person_Ratings'], axis=1)"
   ],
   "id": "f28820420be91bd6",
   "outputs": [],
   "execution_count": 129
  },
  {
   "metadata": {
    "ExecuteTime": {
     "end_time": "2024-12-12T20:37:25.952107Z",
     "start_time": "2024-12-12T20:37:25.927661Z"
    }
   },
   "cell_type": "code",
   "source": [
    "final_clean_data = final_clean_data[['ID', 'Delivery_person_ID', 'PersonAge', 'PersonRating',\n",
    "                         'placed_at', 'picked_at', 'Time_taken (min)', 'Type_of_order',\n",
    "                         'Weather_conditions', 'Road_traffic_density', 'Festival', 'City' ,'Vehicle_condition', 'Type_of_vehicle', 'multiple_deliveries']]"
   ],
   "id": "9a41a78600696397",
   "outputs": [],
   "execution_count": 130
  },
  {
   "metadata": {
    "ExecuteTime": {
     "end_time": "2024-12-12T20:37:26.033412Z",
     "start_time": "2024-12-12T20:37:26.021636Z"
    }
   },
   "cell_type": "code",
   "source": [
    "final_clean_data.rename(columns={'Time_taken (min)': 'Time_taken',\n",
    "                                 'Delivery_person_ID': 'Person_id',\n",
    "                                 'ID':'UID',\n",
    "                                 'PersonAge': 'Person_age',\n",
    "                                 'PersonRating': 'Person_rating'}, inplace=True)"
   ],
   "id": "92370fc876cdc55",
   "outputs": [],
   "execution_count": 131
  },
  {
   "metadata": {
    "ExecuteTime": {
     "end_time": "2024-12-12T20:37:26.398944Z",
     "start_time": "2024-12-12T20:37:26.068694Z"
    }
   },
   "cell_type": "code",
   "source": "final_clean_data.to_csv(\"D:/Projects/Zomato Delivery Dataset/clean_zomato_delivery_dataset.csv\")",
   "id": "2eab9b2bfd408183",
   "outputs": [],
   "execution_count": 132
  },
  {
   "metadata": {
    "ExecuteTime": {
     "end_time": "2024-12-12T20:37:26.417623Z",
     "start_time": "2024-12-12T20:37:26.398944Z"
    }
   },
   "cell_type": "code",
   "source": [
    "data = final_clean_data\n",
    "data"
   ],
   "id": "3b427a8d32158540",
   "outputs": [
    {
     "data": {
      "text/plain": [
       "          UID         Person_id  Person_age  Person_rating  \\\n",
       "0      0xcdcd     DEHRES17DEL01          29            4.2   \n",
       "1      0xd987     KOCRES16DEL01          33            4.0   \n",
       "2      0x2784    PUNERES13DEL03          30            2.9   \n",
       "3      0xc8b6    LUDHRES15DEL02          30            4.1   \n",
       "4      0xdb64     KNPRES14DEL02          30            4.5   \n",
       "...       ...               ...         ...            ...   \n",
       "35227  0x1178  RANCHIRES16DEL01          31            2.5   \n",
       "35228  0x7c09     JAPRES04DEL01          28            3.6   \n",
       "35229  0xd641     AGRRES16DEL01          31            3.8   \n",
       "35230  0x5eee   COIMBRES11DEL01          31            3.5   \n",
       "35231  0x5fb2  RANCHIRES09DEL02          29            2.6   \n",
       "\n",
       "                placed_at           picked_at  Time_taken Type_of_order  \\\n",
       "0     2022-02-12 21:55:00 2022-02-12 22:10:00          46         Snack   \n",
       "1     2022-02-13 14:55:00 2022-02-13 15:05:00          23          Meal   \n",
       "2     2022-03-04 17:30:00 2022-03-04 17:40:00          21        Drinks   \n",
       "3     2022-02-13 09:20:00 2022-02-13 09:30:00          20        Buffet   \n",
       "4     2022-02-14 19:50:00 2022-02-14 20:05:00          41         Snack   \n",
       "...                   ...                 ...         ...           ...   \n",
       "35227 2022-03-08 21:45:00 2022-03-08 21:55:00          33        Drinks   \n",
       "35228 2022-03-24 11:35:00 2022-03-24 11:45:00          32          Meal   \n",
       "35229 2022-02-16 19:55:00 2022-02-16 20:10:00          36        Buffet   \n",
       "35230 2022-03-07 13:35:00 2022-03-07 13:40:00          26         Snack   \n",
       "35231 2022-03-02 17:10:00 2022-03-02 17:15:00          36         Snack   \n",
       "\n",
       "      Weather_conditions Road_traffic_density Festival           City  \\\n",
       "0                    Fog                  Jam       No  Metropolitian   \n",
       "1                 Stormy                 High       No  Metropolitian   \n",
       "2             Sandstorms               Medium       No  Metropolitian   \n",
       "3             Sandstorms                  Low       No  Metropolitian   \n",
       "4                    Fog                  Jam       No  Metropolitian   \n",
       "...                  ...                  ...      ...            ...   \n",
       "35227              Windy                  Jam       No  Metropolitian   \n",
       "35228              Windy                 High       No  Metropolitian   \n",
       "35229              Windy                  Jam       No  Metropolitian   \n",
       "35230             Cloudy                 High       No  Metropolitian   \n",
       "35231                Fog               Medium       No  Metropolitian   \n",
       "\n",
       "       Vehicle_condition Type_of_vehicle  multiple_deliveries  \n",
       "0                      2      motorcycle                  3.0  \n",
       "1                      1      motorcycle                  1.0  \n",
       "2                      1         scooter                  1.0  \n",
       "3                      0      motorcycle                  0.0  \n",
       "4                      1         scooter                  1.0  \n",
       "...                  ...             ...                  ...  \n",
       "35227                  2      motorcycle                  1.0  \n",
       "35228                  1      motorcycle                  0.0  \n",
       "35229                  0      motorcycle                  1.0  \n",
       "35230                  0      motorcycle                  1.0  \n",
       "35231                  2         scooter                  1.0  \n",
       "\n",
       "[35232 rows x 15 columns]"
      ],
      "text/html": [
       "<div>\n",
       "<style scoped>\n",
       "    .dataframe tbody tr th:only-of-type {\n",
       "        vertical-align: middle;\n",
       "    }\n",
       "\n",
       "    .dataframe tbody tr th {\n",
       "        vertical-align: top;\n",
       "    }\n",
       "\n",
       "    .dataframe thead th {\n",
       "        text-align: right;\n",
       "    }\n",
       "</style>\n",
       "<table border=\"1\" class=\"dataframe\">\n",
       "  <thead>\n",
       "    <tr style=\"text-align: right;\">\n",
       "      <th></th>\n",
       "      <th>UID</th>\n",
       "      <th>Person_id</th>\n",
       "      <th>Person_age</th>\n",
       "      <th>Person_rating</th>\n",
       "      <th>placed_at</th>\n",
       "      <th>picked_at</th>\n",
       "      <th>Time_taken</th>\n",
       "      <th>Type_of_order</th>\n",
       "      <th>Weather_conditions</th>\n",
       "      <th>Road_traffic_density</th>\n",
       "      <th>Festival</th>\n",
       "      <th>City</th>\n",
       "      <th>Vehicle_condition</th>\n",
       "      <th>Type_of_vehicle</th>\n",
       "      <th>multiple_deliveries</th>\n",
       "    </tr>\n",
       "  </thead>\n",
       "  <tbody>\n",
       "    <tr>\n",
       "      <th>0</th>\n",
       "      <td>0xcdcd</td>\n",
       "      <td>DEHRES17DEL01</td>\n",
       "      <td>29</td>\n",
       "      <td>4.2</td>\n",
       "      <td>2022-02-12 21:55:00</td>\n",
       "      <td>2022-02-12 22:10:00</td>\n",
       "      <td>46</td>\n",
       "      <td>Snack</td>\n",
       "      <td>Fog</td>\n",
       "      <td>Jam</td>\n",
       "      <td>No</td>\n",
       "      <td>Metropolitian</td>\n",
       "      <td>2</td>\n",
       "      <td>motorcycle</td>\n",
       "      <td>3.0</td>\n",
       "    </tr>\n",
       "    <tr>\n",
       "      <th>1</th>\n",
       "      <td>0xd987</td>\n",
       "      <td>KOCRES16DEL01</td>\n",
       "      <td>33</td>\n",
       "      <td>4.0</td>\n",
       "      <td>2022-02-13 14:55:00</td>\n",
       "      <td>2022-02-13 15:05:00</td>\n",
       "      <td>23</td>\n",
       "      <td>Meal</td>\n",
       "      <td>Stormy</td>\n",
       "      <td>High</td>\n",
       "      <td>No</td>\n",
       "      <td>Metropolitian</td>\n",
       "      <td>1</td>\n",
       "      <td>motorcycle</td>\n",
       "      <td>1.0</td>\n",
       "    </tr>\n",
       "    <tr>\n",
       "      <th>2</th>\n",
       "      <td>0x2784</td>\n",
       "      <td>PUNERES13DEL03</td>\n",
       "      <td>30</td>\n",
       "      <td>2.9</td>\n",
       "      <td>2022-03-04 17:30:00</td>\n",
       "      <td>2022-03-04 17:40:00</td>\n",
       "      <td>21</td>\n",
       "      <td>Drinks</td>\n",
       "      <td>Sandstorms</td>\n",
       "      <td>Medium</td>\n",
       "      <td>No</td>\n",
       "      <td>Metropolitian</td>\n",
       "      <td>1</td>\n",
       "      <td>scooter</td>\n",
       "      <td>1.0</td>\n",
       "    </tr>\n",
       "    <tr>\n",
       "      <th>3</th>\n",
       "      <td>0xc8b6</td>\n",
       "      <td>LUDHRES15DEL02</td>\n",
       "      <td>30</td>\n",
       "      <td>4.1</td>\n",
       "      <td>2022-02-13 09:20:00</td>\n",
       "      <td>2022-02-13 09:30:00</td>\n",
       "      <td>20</td>\n",
       "      <td>Buffet</td>\n",
       "      <td>Sandstorms</td>\n",
       "      <td>Low</td>\n",
       "      <td>No</td>\n",
       "      <td>Metropolitian</td>\n",
       "      <td>0</td>\n",
       "      <td>motorcycle</td>\n",
       "      <td>0.0</td>\n",
       "    </tr>\n",
       "    <tr>\n",
       "      <th>4</th>\n",
       "      <td>0xdb64</td>\n",
       "      <td>KNPRES14DEL02</td>\n",
       "      <td>30</td>\n",
       "      <td>4.5</td>\n",
       "      <td>2022-02-14 19:50:00</td>\n",
       "      <td>2022-02-14 20:05:00</td>\n",
       "      <td>41</td>\n",
       "      <td>Snack</td>\n",
       "      <td>Fog</td>\n",
       "      <td>Jam</td>\n",
       "      <td>No</td>\n",
       "      <td>Metropolitian</td>\n",
       "      <td>1</td>\n",
       "      <td>scooter</td>\n",
       "      <td>1.0</td>\n",
       "    </tr>\n",
       "    <tr>\n",
       "      <th>...</th>\n",
       "      <td>...</td>\n",
       "      <td>...</td>\n",
       "      <td>...</td>\n",
       "      <td>...</td>\n",
       "      <td>...</td>\n",
       "      <td>...</td>\n",
       "      <td>...</td>\n",
       "      <td>...</td>\n",
       "      <td>...</td>\n",
       "      <td>...</td>\n",
       "      <td>...</td>\n",
       "      <td>...</td>\n",
       "      <td>...</td>\n",
       "      <td>...</td>\n",
       "      <td>...</td>\n",
       "    </tr>\n",
       "    <tr>\n",
       "      <th>35227</th>\n",
       "      <td>0x1178</td>\n",
       "      <td>RANCHIRES16DEL01</td>\n",
       "      <td>31</td>\n",
       "      <td>2.5</td>\n",
       "      <td>2022-03-08 21:45:00</td>\n",
       "      <td>2022-03-08 21:55:00</td>\n",
       "      <td>33</td>\n",
       "      <td>Drinks</td>\n",
       "      <td>Windy</td>\n",
       "      <td>Jam</td>\n",
       "      <td>No</td>\n",
       "      <td>Metropolitian</td>\n",
       "      <td>2</td>\n",
       "      <td>motorcycle</td>\n",
       "      <td>1.0</td>\n",
       "    </tr>\n",
       "    <tr>\n",
       "      <th>35228</th>\n",
       "      <td>0x7c09</td>\n",
       "      <td>JAPRES04DEL01</td>\n",
       "      <td>28</td>\n",
       "      <td>3.6</td>\n",
       "      <td>2022-03-24 11:35:00</td>\n",
       "      <td>2022-03-24 11:45:00</td>\n",
       "      <td>32</td>\n",
       "      <td>Meal</td>\n",
       "      <td>Windy</td>\n",
       "      <td>High</td>\n",
       "      <td>No</td>\n",
       "      <td>Metropolitian</td>\n",
       "      <td>1</td>\n",
       "      <td>motorcycle</td>\n",
       "      <td>0.0</td>\n",
       "    </tr>\n",
       "    <tr>\n",
       "      <th>35229</th>\n",
       "      <td>0xd641</td>\n",
       "      <td>AGRRES16DEL01</td>\n",
       "      <td>31</td>\n",
       "      <td>3.8</td>\n",
       "      <td>2022-02-16 19:55:00</td>\n",
       "      <td>2022-02-16 20:10:00</td>\n",
       "      <td>36</td>\n",
       "      <td>Buffet</td>\n",
       "      <td>Windy</td>\n",
       "      <td>Jam</td>\n",
       "      <td>No</td>\n",
       "      <td>Metropolitian</td>\n",
       "      <td>0</td>\n",
       "      <td>motorcycle</td>\n",
       "      <td>1.0</td>\n",
       "    </tr>\n",
       "    <tr>\n",
       "      <th>35230</th>\n",
       "      <td>0x5eee</td>\n",
       "      <td>COIMBRES11DEL01</td>\n",
       "      <td>31</td>\n",
       "      <td>3.5</td>\n",
       "      <td>2022-03-07 13:35:00</td>\n",
       "      <td>2022-03-07 13:40:00</td>\n",
       "      <td>26</td>\n",
       "      <td>Snack</td>\n",
       "      <td>Cloudy</td>\n",
       "      <td>High</td>\n",
       "      <td>No</td>\n",
       "      <td>Metropolitian</td>\n",
       "      <td>0</td>\n",
       "      <td>motorcycle</td>\n",
       "      <td>1.0</td>\n",
       "    </tr>\n",
       "    <tr>\n",
       "      <th>35231</th>\n",
       "      <td>0x5fb2</td>\n",
       "      <td>RANCHIRES09DEL02</td>\n",
       "      <td>29</td>\n",
       "      <td>2.6</td>\n",
       "      <td>2022-03-02 17:10:00</td>\n",
       "      <td>2022-03-02 17:15:00</td>\n",
       "      <td>36</td>\n",
       "      <td>Snack</td>\n",
       "      <td>Fog</td>\n",
       "      <td>Medium</td>\n",
       "      <td>No</td>\n",
       "      <td>Metropolitian</td>\n",
       "      <td>2</td>\n",
       "      <td>scooter</td>\n",
       "      <td>1.0</td>\n",
       "    </tr>\n",
       "  </tbody>\n",
       "</table>\n",
       "<p>35232 rows × 15 columns</p>\n",
       "</div>"
      ]
     },
     "execution_count": 133,
     "metadata": {},
     "output_type": "execute_result"
    }
   ],
   "execution_count": 133
  },
  {
   "metadata": {},
   "cell_type": "markdown",
   "source": "# Analyzing Data",
   "id": "9c593de6b783f5bd"
  },
  {
   "metadata": {},
   "cell_type": "markdown",
   "source": [
    "### Q. How can we improve the deliveries such that it takes the minimum amount of time to deliver the item in the most efficient way?\n",
    "### A. For this we need to understand the factors affecting the delivery time, and provide suggestions according to that,"
   ],
   "id": "889631a6a0118477"
  },
  {
   "metadata": {
    "ExecuteTime": {
     "end_time": "2024-12-12T20:37:26.428377Z",
     "start_time": "2024-12-12T20:37:26.417623Z"
    }
   },
   "cell_type": "code",
   "source": [
    "# First factor is the weather conditions\n",
    "data.groupby('Weather_conditions')['Time_taken'].mean()"
   ],
   "id": "4345f46ddc574e5e",
   "outputs": [
    {
     "data": {
      "text/plain": [
       "Weather_conditions\n",
       "Cloudy        28.984799\n",
       "Fog           28.973561\n",
       "Sandstorms    26.050732\n",
       "Stormy        26.077557\n",
       "Sunny         21.978653\n",
       "Windy         26.301636\n",
       "Name: Time_taken, dtype: float64"
      ]
     },
     "execution_count": 134,
     "metadata": {},
     "output_type": "execute_result"
    }
   ],
   "execution_count": 134
  },
  {
   "metadata": {
    "ExecuteTime": {
     "end_time": "2024-12-12T20:37:26.448656Z",
     "start_time": "2024-12-12T20:37:26.428377Z"
    }
   },
   "cell_type": "code",
   "source": [
    "data['weather_status'] = np.select(condlist=[data['Weather_conditions'] == 'Sunny',\n",
    "                                             data['Weather_conditions'].isin(['Windy', 'Stormy', 'Sandstorms']),\n",
    "                                             data['Weather_conditions'].isin(['Cloudy', 'Fog'])],\n",
    "          choicelist=['Good Weather',\n",
    "                      'Moderate Weather',\n",
    "                      'Extreme Weather'],\n",
    "          default='')"
   ],
   "id": "31781aa633ed11d9",
   "outputs": [],
   "execution_count": 135
  },
  {
   "metadata": {
    "ExecuteTime": {
     "end_time": "2024-12-12T20:37:26.459258Z",
     "start_time": "2024-12-12T20:37:26.448656Z"
    }
   },
   "cell_type": "code",
   "source": [
    "weather_agg = data.groupby('weather_status')['Time_taken'].mean()\n",
    "weather_agg"
   ],
   "id": "7f7e3de4733cbf36",
   "outputs": [
    {
     "data": {
      "text/plain": [
       "weather_status\n",
       "Extreme Weather     28.979123\n",
       "Good Weather        21.978653\n",
       "Moderate Weather    26.142994\n",
       "Name: Time_taken, dtype: float64"
      ]
     },
     "execution_count": 136,
     "metadata": {},
     "output_type": "execute_result"
    }
   ],
   "execution_count": 136
  },
  {
   "metadata": {
    "ExecuteTime": {
     "end_time": "2024-12-12T20:37:26.466991Z",
     "start_time": "2024-12-12T20:37:26.459258Z"
    }
   },
   "cell_type": "code",
   "source": "(weather_agg - weather_agg.loc['Good Weather'])/weather_agg.loc['Good Weather'] * 100",
   "id": "f1ef53f41b1b9cf",
   "outputs": [
    {
     "data": {
      "text/plain": [
       "weather_status\n",
       "Extreme Weather     31.851224\n",
       "Good Weather         0.000000\n",
       "Moderate Weather    18.947211\n",
       "Name: Time_taken, dtype: float64"
      ]
     },
     "execution_count": 137,
     "metadata": {},
     "output_type": "execute_result"
    }
   ],
   "execution_count": 137
  },
  {
   "metadata": {},
   "cell_type": "markdown",
   "source": [
    "### Factor - Weather Conditions\n",
    "#### Observations :- \n",
    "        1. As you can see when the weather is sunny and good, it takes the least amount of time to deliver the item\n",
    "        2. But if the weather is Moderate, the average delivery time increases by ~ 18%\n",
    "        3. During Extreme weather conditions, the avg delivery time increases by ~ 31% \n",
    "#### Effect :- \n",
    "        1. This causes a delay in deliveries due to which orders can get canceled, contributing to a bad User Experience.\n",
    "        2. Extreme weather conditions increses the risk of safty for the delivery partners\n",
    "#### Suggestions:-\n",
    "        1. Whenever the weather conditions are moderate, a message should be displayed to the customers, indicating a slight delay in the delivery due to bad weather,\n",
    "           This promotes transparency, also a buffer time should be added to the normal expected delivery time so that the customer expects this is the max time for the delivery, it cant get any late than that\n",
    "           Buffer should be the time contributing to the %age increase in Average delivery time due to bad weather like ~ 5 minutes\n",
    "        2. During Extreme weathers, for the safety of delivery partners, restrictions should be imposed on placing orders, and should be resumed once the weather clears."
   ],
   "id": "4203a60f417d1c50"
  },
  {
   "metadata": {
    "ExecuteTime": {
     "end_time": "2024-12-12T20:37:26.476339Z",
     "start_time": "2024-12-12T20:37:26.466991Z"
    }
   },
   "cell_type": "code",
   "source": [
    "# Second Factor are the Traffic conditions\n",
    "data.groupby('Road_traffic_density')['Time_taken'].mean()"
   ],
   "id": "7a1a65adee7b3cf9",
   "outputs": [
    {
     "data": {
      "text/plain": [
       "Road_traffic_density\n",
       "High      27.281150\n",
       "Jam       31.192328\n",
       "Low       21.328266\n",
       "Medium    26.789558\n",
       "Name: Time_taken, dtype: float64"
      ]
     },
     "execution_count": 138,
     "metadata": {},
     "output_type": "execute_result"
    }
   ],
   "execution_count": 138
  },
  {
   "metadata": {
    "ExecuteTime": {
     "end_time": "2024-12-12T20:37:26.494162Z",
     "start_time": "2024-12-12T20:37:26.476339Z"
    }
   },
   "cell_type": "code",
   "source": [
    "data['traffic_status'] = np.select(\n",
    "    condlist=[data['Road_traffic_density'] == 'Low',\n",
    "              data['Road_traffic_density'].isin(['Medium', 'High']),\n",
    "              data['Road_traffic_density'] == 'Jam'],\n",
    "    choicelist=['None to Low',\n",
    "                'Moderate to High',\n",
    "                'Extremely High'],\n",
    "    default=''\n",
    ")"
   ],
   "id": "23faaec64199c8f9",
   "outputs": [],
   "execution_count": 139
  },
  {
   "metadata": {
    "ExecuteTime": {
     "end_time": "2024-12-12T20:37:26.530386Z",
     "start_time": "2024-12-12T20:37:26.520331Z"
    }
   },
   "cell_type": "code",
   "source": [
    "traffic_agg = data.groupby('traffic_status')['Time_taken'].mean()\n",
    "traffic_agg"
   ],
   "id": "52bdc438f5231eb6",
   "outputs": [
    {
     "data": {
      "text/plain": [
       "traffic_status\n",
       "Extremely High      31.192328\n",
       "Moderate to High    26.928337\n",
       "None to Low         21.328266\n",
       "Name: Time_taken, dtype: float64"
      ]
     },
     "execution_count": 140,
     "metadata": {},
     "output_type": "execute_result"
    }
   ],
   "execution_count": 140
  },
  {
   "metadata": {
    "ExecuteTime": {
     "end_time": "2024-12-12T20:37:26.662681Z",
     "start_time": "2024-12-12T20:37:26.644281Z"
    }
   },
   "cell_type": "code",
   "source": "percent_increase = ((traffic_agg - traffic_agg.loc['None to Low'])/traffic_agg.loc['None to Low'] * 100).round(1)",
   "id": "e04fee223b94c2f5",
   "outputs": [],
   "execution_count": 141
  },
  {
   "metadata": {
    "ExecuteTime": {
     "end_time": "2024-12-12T20:37:26.866038Z",
     "start_time": "2024-12-12T20:37:26.862313Z"
    }
   },
   "cell_type": "code",
   "source": [
    "# Now we have to understand what time day has the most traffic (Rush Hour)\n",
    "# For this we are going to break the day into following segments\n",
    "\n",
    "# Before 12 - Morning\n",
    "# 12 - 4 - Afternoon\n",
    "# 4 - 7 - Evening\n",
    "# 7 - 10 - Night\n",
    "# After 10 - Late Night\n",
    "\n",
    "# The column we will choose for this is picked at, because to view the traffic statistics, the item must have left the restaurant."
   ],
   "id": "a176a881d63c521d",
   "outputs": [],
   "execution_count": 142
  },
  {
   "metadata": {
    "ExecuteTime": {
     "end_time": "2024-12-12T20:37:27.021612Z",
     "start_time": "2024-12-12T20:37:26.970314Z"
    }
   },
   "cell_type": "code",
   "source": [
    "data['day_segments_for_traffic'] = np.select(\n",
    "    condlist=[(data['picked_at'].dt.hour < 12) & (data['picked_at'].dt.hour >= 8),\n",
    "              (data['picked_at'].dt.hour >= 12) & (data['picked_at'].dt.hour < 16),\n",
    "              (data['picked_at'].dt.hour >= 16) & (data['picked_at'].dt.hour < 19),\n",
    "              (data['picked_at'].dt.hour >= 19) & (data['picked_at'].dt.hour < 22),\n",
    "              (data['picked_at'].dt.hour >= 22)],\n",
    "    choicelist=['Morning',\n",
    "                'Afternoon',\n",
    "                'Evening',\n",
    "                'Night',\n",
    "                'Late Night'],\n",
    "    default=''\n",
    ")"
   ],
   "id": "c1e8ae6369fa3ded",
   "outputs": [],
   "execution_count": 143
  },
  {
   "metadata": {
    "ExecuteTime": {
     "end_time": "2024-12-12T20:37:27.083814Z",
     "start_time": "2024-12-12T20:37:27.062525Z"
    }
   },
   "cell_type": "code",
   "source": "agg = (data.groupby(['traffic_status', 'day_segments_for_traffic'])['UID'].count()/data['UID'].count() * 100).round(1).reset_index().sort_values(['traffic_status', 'UID'], ascending=[True, False]).set_index(['traffic_status', 'day_segments_for_traffic'])\n",
   "id": "ebb9b7cee3e74e79",
   "outputs": [],
   "execution_count": 144
  },
  {
   "metadata": {
    "ExecuteTime": {
     "end_time": "2024-12-12T20:37:27.116949Z",
     "start_time": "2024-12-12T20:37:27.093850Z"
    }
   },
   "cell_type": "code",
   "source": "pd.merge(left=percent_increase, right=agg, left_index=True, right_index=True, how='inner').rename(columns={'Time_taken':'%age increase', 'UID': 'percent deliveries'})",
   "id": "f6dc58c138aa7994",
   "outputs": [
    {
     "data": {
      "text/plain": [
       "                                           %age increase  percent deliveries\n",
       "traffic_status   day_segments_for_traffic                                   \n",
       "Extremely High   Night                              46.2                30.7\n",
       "                 Late Night                         46.2                 1.2\n",
       "Moderate to High Evening                            26.3                22.1\n",
       "                 Afternoon                          26.3                 7.6\n",
       "                 Morning                            26.3                 3.9\n",
       "                 Night                              26.3                 1.0\n",
       "None to Low      Late Night                          0.0                19.8\n",
       "                 Morning                             0.0                13.6"
      ],
      "text/html": [
       "<div>\n",
       "<style scoped>\n",
       "    .dataframe tbody tr th:only-of-type {\n",
       "        vertical-align: middle;\n",
       "    }\n",
       "\n",
       "    .dataframe tbody tr th {\n",
       "        vertical-align: top;\n",
       "    }\n",
       "\n",
       "    .dataframe thead th {\n",
       "        text-align: right;\n",
       "    }\n",
       "</style>\n",
       "<table border=\"1\" class=\"dataframe\">\n",
       "  <thead>\n",
       "    <tr style=\"text-align: right;\">\n",
       "      <th></th>\n",
       "      <th></th>\n",
       "      <th>%age increase</th>\n",
       "      <th>percent deliveries</th>\n",
       "    </tr>\n",
       "    <tr>\n",
       "      <th>traffic_status</th>\n",
       "      <th>day_segments_for_traffic</th>\n",
       "      <th></th>\n",
       "      <th></th>\n",
       "    </tr>\n",
       "  </thead>\n",
       "  <tbody>\n",
       "    <tr>\n",
       "      <th rowspan=\"2\" valign=\"top\">Extremely High</th>\n",
       "      <th>Night</th>\n",
       "      <td>46.2</td>\n",
       "      <td>30.7</td>\n",
       "    </tr>\n",
       "    <tr>\n",
       "      <th>Late Night</th>\n",
       "      <td>46.2</td>\n",
       "      <td>1.2</td>\n",
       "    </tr>\n",
       "    <tr>\n",
       "      <th rowspan=\"4\" valign=\"top\">Moderate to High</th>\n",
       "      <th>Evening</th>\n",
       "      <td>26.3</td>\n",
       "      <td>22.1</td>\n",
       "    </tr>\n",
       "    <tr>\n",
       "      <th>Afternoon</th>\n",
       "      <td>26.3</td>\n",
       "      <td>7.6</td>\n",
       "    </tr>\n",
       "    <tr>\n",
       "      <th>Morning</th>\n",
       "      <td>26.3</td>\n",
       "      <td>3.9</td>\n",
       "    </tr>\n",
       "    <tr>\n",
       "      <th>Night</th>\n",
       "      <td>26.3</td>\n",
       "      <td>1.0</td>\n",
       "    </tr>\n",
       "    <tr>\n",
       "      <th rowspan=\"2\" valign=\"top\">None to Low</th>\n",
       "      <th>Late Night</th>\n",
       "      <td>0.0</td>\n",
       "      <td>19.8</td>\n",
       "    </tr>\n",
       "    <tr>\n",
       "      <th>Morning</th>\n",
       "      <td>0.0</td>\n",
       "      <td>13.6</td>\n",
       "    </tr>\n",
       "  </tbody>\n",
       "</table>\n",
       "</div>"
      ]
     },
     "execution_count": 145,
     "metadata": {},
     "output_type": "execute_result"
    }
   ],
   "execution_count": 145
  },
  {
   "metadata": {},
   "cell_type": "markdown",
   "source": [
    "#### Factor - Traffic Conditions\n",
    "\n",
    "#### Observation :-\n",
    "        1. When Traffic is Low to none, it takes the least amount of time to deliver the item\n",
    "        2. When Traffic spikes to a Moderate level, the avg delivery time increses by ~26%\n",
    "        3. When the Traffic is extremely high leading to a jam, the avg delivery time increses by ~46%\n",
    "        4. About 30% of the overall deliveries suffer from extreme traffic during night hours\n",
    "        5. About 22% of the overall deliveries suffer from moderate traffic during evening hours\n",
    "        \n",
    "#### Effect :-\n",
    "        Avg delivery time increses by 46% for about 30% of the overall deliveries because of extreme traffic conditions during night hours\n",
    "        and by 26% for 22% of the overall deliveries during the evening because of moderate traffic conditions during evening hours, \n",
    "        this causes a delay in the deliveries at night and evening,\n",
    "        due to which there is a high probability of orders/deliveries getting cancelled at night and evening\n",
    "        ,leading to a bad user experience\n",
    "        \n",
    "#### Suggestions :-\n",
    "        1. Better/alternate routes must be available through navigation systems to the delivery partners to avoid heavy traffic areas, this will help in reducing the time taken to deliver the item\n",
    "        2. Since extreme to moderate traffic conditions occur majorly during the night and evening hours, a message should be displayed that ordering items during these hours may take longer than expected.\n",
    "        3. We can increase the delivery charges during the night and evening hours, this will help grow the business economically.\n",
    "        4. If the time it takes to deliver the items goes beyond a certain threshold, we can implement a strategy to provide free deliveries, this will improve customer satisfaction and loyalty\n"
   ],
   "id": "1ab007d9877e068c"
  },
  {
   "metadata": {
    "ExecuteTime": {
     "end_time": "2024-12-12T20:37:27.196846Z",
     "start_time": "2024-12-12T20:37:27.188015Z"
    }
   },
   "cell_type": "code",
   "source": [
    "fest_agg = data.groupby(['Festival'])['Time_taken'].mean()\n",
    "fest_agg"
   ],
   "id": "ed72154222e86aa9",
   "outputs": [
    {
     "data": {
      "text/plain": [
       "Festival\n",
       "No     26.034168\n",
       "Yes    45.530846\n",
       "Name: Time_taken, dtype: float64"
      ]
     },
     "execution_count": 146,
     "metadata": {},
     "output_type": "execute_result"
    }
   ],
   "execution_count": 146
  },
  {
   "metadata": {
    "ExecuteTime": {
     "end_time": "2024-12-12T20:37:27.246417Z",
     "start_time": "2024-12-12T20:37:27.234195Z"
    }
   },
   "cell_type": "code",
   "source": "(fest_agg - fest_agg.loc['No'])/fest_agg.loc['No'] * 100",
   "id": "9ee84071e398e316",
   "outputs": [
    {
     "data": {
      "text/plain": [
       "Festival\n",
       "No      0.000000\n",
       "Yes    74.888808\n",
       "Name: Time_taken, dtype: float64"
      ]
     },
     "execution_count": 147,
     "metadata": {},
     "output_type": "execute_result"
    }
   ],
   "execution_count": 147
  },
  {
   "metadata": {},
   "cell_type": "markdown",
   "source": [
    "#### Factor - Festivals\n",
    " \n",
    "#### Observation :-\n",
    "        1. On normal days, it takes the least amount of time to deliver the items\n",
    "        2. And during festivals avg delivery time increases by almost 75%\n",
    "\n",
    "#### Effect :-\n",
    "        Delay in deliveries promotes to customer unsatisfaction,\n",
    "        and unsatisfied customers leads to less no of orders and bad business.\n",
    "        \n",
    "#### Suggestions :-\n",
    "        Since Festivals are one of the factors we cant control,\n",
    "        but we can see it as an opportunity to grow business.\n",
    "        1. To keep the customers satisfactory despite of late deliveries, we can either provide festival discounts on orders or include a gift\n",
    "        2. Another strategy to reduce the delay in deliveries can be prioritizing deliveries into HIGH, MEDIUM, STANDARD at additional cost.  "
   ],
   "id": "85d160853126ac46"
  },
  {
   "metadata": {
    "ExecuteTime": {
     "end_time": "2024-12-12T20:37:27.344260Z",
     "start_time": "2024-12-12T20:37:27.321110Z"
    }
   },
   "cell_type": "code",
   "source": [
    "data['D_person_rating_status'] = np.select(\n",
    "    condlist=[data['Person_rating'] <= 3.5,\n",
    "              data['Person_rating'] <= 4.5,\n",
    "              data['Person_rating'] > 4.5],\n",
    "    choicelist=['Low Rating', 'Medium Rating', 'High Rating'],\n",
    "    default=''\n",
    ")"
   ],
   "id": "470416b4b1f3de68",
   "outputs": [],
   "execution_count": 148
  },
  {
   "metadata": {
    "ExecuteTime": {
     "end_time": "2024-12-12T20:37:27.442362Z",
     "start_time": "2024-12-12T20:37:27.432894Z"
    }
   },
   "cell_type": "code",
   "source": "data.groupby('D_person_rating_status')['Time_taken'].mean()",
   "id": "f872a87aa3936d68",
   "outputs": [
    {
     "data": {
      "text/plain": [
       "D_person_rating_status\n",
       "High Rating      25.281720\n",
       "Low Rating       26.674509\n",
       "Medium Rating    26.320371\n",
       "Name: Time_taken, dtype: float64"
      ]
     },
     "execution_count": 149,
     "metadata": {},
     "output_type": "execute_result"
    }
   ],
   "execution_count": 149
  },
  {
   "metadata": {},
   "cell_type": "markdown",
   "source": [
    "### Does the ratings of a delivery person affect the time they take to deliver the items. (Correlation Ratings vs Delivery time)\n",
    "\n",
    "#### Observation :-\n",
    "        From the statistics above, it does not seem that ratings have huge impact on average delivery time\n",
    "        but Person with low or medium ratings tends to take more time to deliver the items compared to person with high ratings.\n",
    "\n",
    "#### Effect :-\n",
    "        Since ratings are provided by customers, \n",
    "        Bad ratings by the customers can be a concern of bad behaviour of the delivery person towards the customer,\n",
    "        Intentionally late deliveries, poor customer experience etc.\n",
    "\n",
    "#### Suggestions :-\n",
    "        1. To motivate delivery persons towards deliveries, we can provide monetary incentives on the basis of their ratings and number of deliveries made each month.\n",
    "        2. In case of extreme delay in deliveries by a low or medium rating person, strict action must be taken against them (Judging on individual basis) \n",
    "        or to improve this proper training and guidance must be provided to them."
   ],
   "id": "167a78b867bd79e6"
  },
  {
   "metadata": {
    "ExecuteTime": {
     "end_time": "2024-12-12T20:37:27.616507Z",
     "start_time": "2024-12-12T20:37:27.566861Z"
    }
   },
   "cell_type": "code",
   "source": [
    "# Now let's understand what are the peak hours to place an order, and suggest some strategy for business growth\n",
    "\n",
    "data['day_segments_for_peak_hours'] = np.select(\n",
    "    condlist=[(data['placed_at'].dt.hour < 12) & (data['placed_at'].dt.hour >= 8),\n",
    "              (data['placed_at'].dt.hour >= 12) & (data['placed_at'].dt.hour < 16),\n",
    "              (data['placed_at'].dt.hour >= 16) & (data['placed_at'].dt.hour < 19),\n",
    "              (data['placed_at'].dt.hour >= 19) & (data['placed_at'].dt.hour < 22),\n",
    "              (data['placed_at'].dt.hour >= 22)],\n",
    "    choicelist=['Morning',\n",
    "                'Afternoon',\n",
    "                'Evening',\n",
    "                'Night',\n",
    "                'Late Night'],\n",
    "    default=''\n",
    ")"
   ],
   "id": "a088918046524b9e",
   "outputs": [],
   "execution_count": 150
  },
  {
   "metadata": {
    "ExecuteTime": {
     "end_time": "2024-12-12T20:37:27.651069Z",
     "start_time": "2024-12-12T20:37:27.629609Z"
    }
   },
   "cell_type": "code",
   "source": [
    "# Delivery Distribution\n",
    "(data.groupby('day_segments_for_peak_hours')['UID'].count()/data['UID'].count() * 100).round(1)"
   ],
   "id": "49af0e923d2c6809",
   "outputs": [
    {
     "data": {
      "text/plain": [
       "day_segments_for_peak_hours\n",
       "Afternoon      7.3\n",
       "Evening       22.9\n",
       "Late Night    19.8\n",
       "Morning       18.1\n",
       "Night         32.0\n",
       "Name: UID, dtype: float64"
      ]
     },
     "execution_count": 151,
     "metadata": {},
     "output_type": "execute_result"
    }
   ],
   "execution_count": 151
  },
  {
   "metadata": {},
   "cell_type": "markdown",
   "source": [
    "### Understanding the peak hours to place an order, and suggest some strategy for business growth\n",
    "    [Note - Since each delivery corresponds to at-least 1 order that is being delivered\n",
    "     So this delivery distribution is directly proportional to the Order distribution.]\n",
    "\n",
    "#### Observation :- \n",
    "        At Night time, Max no. of Orders are placed, i.e. Peak hours for business are between 7 PM to 10 PM\n",
    "        And Moderate business hours are in the evening (4 PM - 7PM), Late Night (After 10 PM) and in the Morning (8 AM - 12 PM)\n",
    "\n",
    "#### Effect :-\n",
    "        During peak hours, Max no. of Orders are getting placed, which promotes business growth\n",
    "        And, the efforts to prepare the Orders also increases.\n",
    "\n",
    "#### Suggestions :-\n",
    "        - To gain benefits from the peak hours economically, we can increase the cost of the orders,\n",
    "          i.e. the greater the demand the higher the price\n",
    "        - To handle workload during peak hours, ensure proper logistics for the deliveries, this includes hiring more delivery partners\n",
    "        - We can also implement some marketing/promotional strategy during normal hours to increase the business at that time, this can help in evenly distributing order placements\n",
    "        \n",
    "        "
   ],
   "id": "97c0934b68df1d9c"
  },
  {
   "metadata": {
    "ExecuteTime": {
     "end_time": "2024-12-12T20:37:27.756993Z",
     "start_time": "2024-12-12T20:37:27.746286Z"
    }
   },
   "cell_type": "code",
   "source": "city_del_agg = (data.groupby('City')['UID'].count()/data['UID'].count() * 100).round(1)",
   "id": "84590dc23833aa8f",
   "outputs": [],
   "execution_count": 152
  },
  {
   "metadata": {
    "ExecuteTime": {
     "end_time": "2024-12-12T20:37:27.815566Z",
     "start_time": "2024-12-12T20:37:27.798254Z"
    }
   },
   "cell_type": "code",
   "source": "city_time_agg = data.groupby('City')['Time_taken'].mean().round(1)",
   "id": "34eb7b2320343637",
   "outputs": [],
   "execution_count": 153
  },
  {
   "metadata": {
    "ExecuteTime": {
     "end_time": "2024-12-12T20:37:27.925701Z",
     "start_time": "2024-12-12T20:37:27.910552Z"
    }
   },
   "cell_type": "code",
   "source": "pd.merge(left=city_del_agg, right=city_time_agg, left_index=True, right_index=True, how='inner')",
   "id": "6596c73cbb41dd8a",
   "outputs": [
    {
     "data": {
      "text/plain": [
       "                UID  Time_taken\n",
       "City                           \n",
       "Metropolitian  74.9        27.4\n",
       "Semi-Urban      0.4        49.7\n",
       "Urban          24.7        23.0"
      ],
      "text/html": [
       "<div>\n",
       "<style scoped>\n",
       "    .dataframe tbody tr th:only-of-type {\n",
       "        vertical-align: middle;\n",
       "    }\n",
       "\n",
       "    .dataframe tbody tr th {\n",
       "        vertical-align: top;\n",
       "    }\n",
       "\n",
       "    .dataframe thead th {\n",
       "        text-align: right;\n",
       "    }\n",
       "</style>\n",
       "<table border=\"1\" class=\"dataframe\">\n",
       "  <thead>\n",
       "    <tr style=\"text-align: right;\">\n",
       "      <th></th>\n",
       "      <th>UID</th>\n",
       "      <th>Time_taken</th>\n",
       "    </tr>\n",
       "    <tr>\n",
       "      <th>City</th>\n",
       "      <th></th>\n",
       "      <th></th>\n",
       "    </tr>\n",
       "  </thead>\n",
       "  <tbody>\n",
       "    <tr>\n",
       "      <th>Metropolitian</th>\n",
       "      <td>74.9</td>\n",
       "      <td>27.4</td>\n",
       "    </tr>\n",
       "    <tr>\n",
       "      <th>Semi-Urban</th>\n",
       "      <td>0.4</td>\n",
       "      <td>49.7</td>\n",
       "    </tr>\n",
       "    <tr>\n",
       "      <th>Urban</th>\n",
       "      <td>24.7</td>\n",
       "      <td>23.0</td>\n",
       "    </tr>\n",
       "  </tbody>\n",
       "</table>\n",
       "</div>"
      ]
     },
     "execution_count": 154,
     "metadata": {},
     "output_type": "execute_result"
    }
   ],
   "execution_count": 154
  },
  {
   "metadata": {
    "ExecuteTime": {
     "end_time": "2024-12-12T20:37:27.985454Z",
     "start_time": "2024-12-12T20:37:27.969395Z"
    }
   },
   "cell_type": "code",
   "source": [
    "data.groupby('multiple_deliveries')['Time_taken'].mean()\n",
    "# The below data shows that for\n",
    "# No multiple deliveries, it takes the least amt of time to deliver the items (on average basis)\n",
    "# and for 3 or more deliveries, avg delivery time increases by ~75% and goes beyond ~100%"
   ],
   "id": "baf276758e0c779a",
   "outputs": [
    {
     "data": {
      "text/plain": [
       "multiple_deliveries\n",
       "0.0    23.011716\n",
       "1.0    26.954760\n",
       "2.0    40.366645\n",
       "3.0    47.867857\n",
       "Name: Time_taken, dtype: float64"
      ]
     },
     "execution_count": 155,
     "metadata": {},
     "output_type": "execute_result"
    }
   ],
   "execution_count": 155
  },
  {
   "metadata": {},
   "cell_type": "markdown",
   "source": [
    "### Distribution of deliveries based on different city locations \n",
    "### and Avg Delivery time for each different city locations\n",
    "\n",
    "#### Observation :-\n",
    "    About 74.9% of the deliveries are from the metropolitan areas\n",
    "    24.7% of the deliveries are from the Urban Areas, for which it takes the least amount of time to deliver the items\n",
    "    Almost no deliveries are from the Semi-Urban Areas, for which it takes the largest amount of time to deliver the items\n",
    "\n",
    "#### Effects :-\n",
    "    This suggest that maximum no. of customers are from metropolitan areas, \n",
    "    for which we have a fairly strong delivery network because avg delivery time is only 4.4 min (~19%) greater than the minimum avg delivery time\n",
    "    Also, Semi-Urban areas has the least no. of customers which can be due to unfeasible delivery location in terms of delivering the items within the expected timeframe\n",
    "\n",
    "#### Suggestions :-\n",
    "    Try to fortify the delivery network more in the metropolitan and urban areas compared to semi-Urban,\n",
    "    Because if the profit from that delivery is getting converted into a loss because of the distance, then it's a waste of resources and efforts\n",
    "    To secure the delivery network we can hire more delivery staff, that would deliver multiple items at the same time reducing delivery delays (as seen from the data above)"
   ],
   "id": "5ebed8c0bcade19"
  },
  {
   "metadata": {
    "ExecuteTime": {
     "end_time": "2024-12-12T20:37:28.044673Z",
     "start_time": "2024-12-12T20:37:28.021274Z"
    }
   },
   "cell_type": "code",
   "source": "data.groupby('Type_of_vehicle')['Time_taken'].mean()",
   "id": "43479fda97ddb63a",
   "outputs": [
    {
     "data": {
      "text/plain": [
       "Type_of_vehicle\n",
       "electric_scooter    24.539571\n",
       "motorcycle          27.708970\n",
       "scooter             24.602850\n",
       "Name: Time_taken, dtype: float64"
      ]
     },
     "execution_count": 156,
     "metadata": {},
     "output_type": "execute_result"
    }
   ],
   "execution_count": 156
  },
  {
   "metadata": {
    "ExecuteTime": {
     "end_time": "2024-12-12T20:37:28.116074Z",
     "start_time": "2024-12-12T20:37:28.103665Z"
    }
   },
   "cell_type": "code",
   "source": [
    "# Distribution of deliveries for each type of vehicle\n",
    "data.groupby('Type_of_vehicle')['UID'].count()/(data['UID'].count()) * 100"
   ],
   "id": "870b4cfb53757525",
   "outputs": [
    {
     "data": {
      "text/plain": [
       "Type_of_vehicle\n",
       "electric_scooter     8.069369\n",
       "motorcycle          58.662579\n",
       "scooter             33.268052\n",
       "Name: UID, dtype: float64"
      ]
     },
     "execution_count": 157,
     "metadata": {},
     "output_type": "execute_result"
    }
   ],
   "execution_count": 157
  },
  {
   "metadata": {
    "ExecuteTime": {
     "end_time": "2024-12-12T20:37:28.309044Z",
     "start_time": "2024-12-12T20:37:28.281388Z"
    }
   },
   "cell_type": "code",
   "source": [
    "# Effect of vehicle condition on deliveries\n",
    "data['Vehicle_cond_status'] = np.select(\n",
    "    condlist=[data['Vehicle_condition'] == 0, data['Vehicle_condition'] == 1],\n",
    "    choicelist=['Bad Condition', 'Moderate Condition'],\n",
    "    default='Good Condition'\n",
    ")\n",
    "data.groupby('Vehicle_cond_status')['Time_taken'].mean()"
   ],
   "id": "871025c794f0547",
   "outputs": [
    {
     "data": {
      "text/plain": [
       "Vehicle_cond_status\n",
       "Bad Condition         30.176231\n",
       "Good Condition        24.571903\n",
       "Moderate Condition    24.485800\n",
       "Name: Time_taken, dtype: float64"
      ]
     },
     "execution_count": 158,
     "metadata": {},
     "output_type": "execute_result"
    }
   ],
   "execution_count": 158
  },
  {
   "metadata": {},
   "cell_type": "markdown",
   "source": [
    "### Effect of vehicle and its condition on deliveries\n",
    "\n",
    "#### Observations :-\n",
    "        1. Motorcycle takes the longest amount of time to deliver the items compared to scooter and electric_scooter\n",
    "        2. Almost 58% of the deliveries happen through motorcycles\n",
    "        3. Vehicles with bad condition take the longest amount of time to deliver the items compared to Good and Moderate condition vehicles.\n",
    "\n",
    "#### Effects :-\n",
    "        Bad condition vehicles not only put the delivery partner at risk but can also cause unexpected delay in deliveries.\n",
    "        Motorcycles not only causes a delay in deliveries but also limits the storage capacity for the order.\n",
    "        \n",
    "#### Suggestions :-\n",
    "        Since Scooter and electric_scooters takes the least amount of time to deliver the item, they should replace Motorcycles in that regard to reduce the avg delivery time.\n",
    "        Proper check must be performed on delivery vehicles at least twice a month, to ensure safety and reduced delivery time."
   ],
   "id": "59ab787220912d04"
  },
  {
   "metadata": {
    "ExecuteTime": {
     "end_time": "2024-12-12T20:37:28.358795Z",
     "start_time": "2024-12-12T20:37:28.349039Z"
    }
   },
   "cell_type": "code",
   "source": "# Some KPIs",
   "id": "7e27299cb43b2113",
   "outputs": [],
   "execution_count": 159
  },
  {
   "metadata": {
    "ExecuteTime": {
     "end_time": "2024-12-12T20:37:28.451450Z",
     "start_time": "2024-12-12T20:37:28.436157Z"
    }
   },
   "cell_type": "code",
   "source": [
    "# Average Delivery Time\n",
    "Overall_avg_delivery_time = data['Time_taken'].mean()\n",
    "Overall_avg_delivery_time"
   ],
   "id": "dd3cd9bd16596953",
   "outputs": [
    {
     "data": {
      "text/plain": [
       "np.float64(26.419873978201636)"
      ]
     },
     "execution_count": 160,
     "metadata": {},
     "output_type": "execute_result"
    }
   ],
   "execution_count": 160
  },
  {
   "metadata": {
    "ExecuteTime": {
     "end_time": "2024-12-12T20:43:28.472727Z",
     "start_time": "2024-12-12T20:43:28.465812Z"
    }
   },
   "cell_type": "code",
   "source": "# Average delivery rate for each month",
   "id": "b41bc2e7f1d90ced",
   "outputs": [],
   "execution_count": 169
  },
  {
   "metadata": {
    "ExecuteTime": {
     "end_time": "2024-12-12T20:38:30.855812Z",
     "start_time": "2024-12-12T20:38:30.836987Z"
    }
   },
   "cell_type": "code",
   "source": "data.groupby(data['picked_at'].dt.month)['UID'].count()",
   "id": "28d281a1c6dc186d",
   "outputs": [
    {
     "data": {
      "text/plain": [
       "picked_at\n",
       "2     5587\n",
       "3    24760\n",
       "4     4885\n",
       "Name: UID, dtype: int64"
      ]
     },
     "execution_count": 168,
     "metadata": {},
     "output_type": "execute_result"
    }
   ],
   "execution_count": 168
  },
  {
   "metadata": {
    "ExecuteTime": {
     "end_time": "2024-12-12T20:38:16.881565Z",
     "start_time": "2024-12-12T20:38:16.857631Z"
    }
   },
   "cell_type": "code",
   "source": "data.groupby(data['picked_at'].dt.month)['UID'].count().sum()/12",
   "id": "1de0b4daa0ce1ed4",
   "outputs": [
    {
     "data": {
      "text/plain": [
       "np.float64(2936.0)"
      ]
     },
     "execution_count": 167,
     "metadata": {},
     "output_type": "execute_result"
    }
   ],
   "execution_count": 167
  }
 ],
 "metadata": {
  "kernelspec": {
   "display_name": "Python 3",
   "language": "python",
   "name": "python3"
  },
  "language_info": {
   "codemirror_mode": {
    "name": "ipython",
    "version": 2
   },
   "file_extension": ".py",
   "mimetype": "text/x-python",
   "name": "python",
   "nbconvert_exporter": "python",
   "pygments_lexer": "ipython2",
   "version": "2.7.6"
  }
 },
 "nbformat": 4,
 "nbformat_minor": 5
}
